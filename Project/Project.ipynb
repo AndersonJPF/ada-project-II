{
 "cells": [
  {
   "cell_type": "markdown",
   "id": "cb20aa51-9534-42dd-bc72-a94f5980e538",
   "metadata": {},
   "source": [
    "<center><strong><h1>\n",
    "    ADA FINAL PROJECT II </h1></strong></center>"
   ]
  },
  {
   "cell_type": "markdown",
   "id": "8d4c99a6-81bf-4811-ac1c-fb1368735c68",
   "metadata": {
    "tags": []
   },
   "source": [
    "<center>\n",
    "<img src=\"https://i.postimg.cc/G3vX5dvW/new-product-sales-turn-innovation-into-growth-4x.png\" width=\"600\" alt=\"cognitiveclass.ai logo\"  /></center>"
   ]
  },
  {
   "cell_type": "markdown",
   "id": "755112e1-2bca-4eec-9592-7a375c38a814",
   "metadata": {
    "tags": []
   },
   "source": [
    "# Project Code"
   ]
  },
  {
   "cell_type": "markdown",
   "id": "93be0b67-6cfa-47a8-b9fb-7df9709932c7",
   "metadata": {
    "jp-MarkdownHeadingCollapsed": true,
    "tags": []
   },
   "source": [
    "## Ada_project"
   ]
  },
  {
   "cell_type": "markdown",
   "id": "d6fd2ecc-5067-4b84-a005-308c2e9a4c07",
   "metadata": {
    "tags": []
   },
   "source": [
    "Repository for the essential files for the final project of the Programming Techniques course - Ada tech. The practical objective of this project is to develop a system for storing, maintaining and manipulating databases using pandas.\n",
    "\n",
    "In this work, we want to create a system for organizing product sales data in a company. There are already two services that implement different blocks of a complete project.\n",
    "Repository for the essential files for the final project of the Programming Techniques course - Ada tech. The practical objective of this project is to develop a system for storing, maintaining and manipulating databases using pandas.\n",
    "\n",
    "In this work, we want to create a system for organizing product sales data in a company. There are already two services that implement different blocks of a complete project.\n",
    "\n",
    "### Part 1 - Data Acquisition\n",
    "Initially, a web-server created in Javascript will serve as an entry point for the data, simulating the weekly acquisition of all products sold by the company. To run the server, you need to install [NodeJS](https://nodejs.org/en/). With the repository folder already cloned, you must use the following commands to install the packages.\n",
    "\n",
    "`npm init`\n",
    "`npm install`\n",
    "\n",
    "Then just run the `node web-server.js` command. To request the data in JSON format, just use a GET request to localhost:3000/api/ep1\n",
    "\n",
    "### Part 2 - Data Storage and Management\n",
    "\n",
    "This is the necessary stage of the project. The student must be able to create a system that can update tables in the face of new data. Also, the formatting of dataframes must be in accordance with the project's specifications, so that communication with the dashboard can be stablished immediately and correctly, without any further adaptation. \n",
    "\n",
    "### Part 3 - Data visualization\n",
    "\n",
    "Last step of the project pipeline. Using the aforementioned tables, this script generates a dashboard containing essential info for data visualization. The script uses the `streamlit` framework. In order to run locally, the student should install the package (either using `pip install streamlit` or `conda install streamlit`). To run the application, just type `streamlit run app.py` and access localhost:8501 to view the dashboard. If the second part of the project is done correctly, the dashboard should work like the image below.\n",
    "\n",
    "![example](https://github.com/mdrs-thiago/ada_project/blob/492aafd0f66fdb37fec04a4e72c085ca7aba87f1/ada_project_dashboard.png)"
   ]
  },
  {
   "cell_type": "markdown",
   "id": "8d809c6b-5d99-4a73-b3bf-24e6d8a1b2e0",
   "metadata": {
    "jp-MarkdownHeadingCollapsed": true,
    "tags": []
   },
   "source": [
    "## Imports"
   ]
  },
  {
   "cell_type": "code",
   "execution_count": null,
   "id": "15185743-2122-4397-ab87-604b918a3839",
   "metadata": {},
   "outputs": [],
   "source": [
    "import pandas as pd\n",
    "import numpy as np\n",
    "import requests\n",
    "import datetime \n",
    "import random\n",
    "\n",
    "import matplotlib.pyplot as plt\n",
    "import seaborn as sns\n",
    "%matplotlib inline \n",
    "\n",
    "import warnings\n",
    "#import unicodedata\n",
    "#import math\n",
    "#import time"
   ]
  },
  {
   "cell_type": "code",
   "execution_count": null,
   "id": "c47fbed0-375d-4135-b25a-5cb40f654616",
   "metadata": {},
   "outputs": [],
   "source": [
    "# show all Columns\n",
    "pd.set_option(\"display.max_columns\", None)\n",
    "\n",
    "#  warnings package to suppress warnings\n",
    "warnings.filterwarnings('ignore')"
   ]
  },
  {
   "cell_type": "markdown",
   "id": "56c7dc1a-d6f2-4a68-b72a-6d2b74df9ff8",
   "metadata": {
    "jp-MarkdownHeadingCollapsed": true,
    "tags": []
   },
   "source": [
    "## Main Fuctions"
   ]
  },
  {
   "cell_type": "code",
   "execution_count": null,
   "id": "d2866d95-fefc-4fb5-b44f-d50cede0a189",
   "metadata": {},
   "outputs": [],
   "source": [
    "dict_price = {}\n",
    "df_concat = pd.DataFrame()"
   ]
  },
  {
   "cell_type": "code",
   "execution_count": null,
   "id": "2ddf7518-afe2-49aa-b6fc-d2f3e05a410f",
   "metadata": {},
   "outputs": [],
   "source": [
    "def request_api (x:str):\n",
    "    '''\n",
    "    x: str <- link da API\n",
    "    '''\n",
    "    exemple = requests.get(x)\n",
    "    dados = exemple.json()\n",
    "    df = pd.json_normalize(dados)\n",
    "#   df['date'] = df['date'].apply(lambda x: datetime.datetime.fromtimestamp(x))\n",
    "    df.iloc[:,2:] = df.iloc[:,2:].abs()\n",
    "    \n",
    "    return df"
   ]
  },
  {
   "cell_type": "code",
   "execution_count": null,
   "id": "ddc68c06-ae86-4aaf-a238-2a22f19e35b2",
   "metadata": {},
   "outputs": [],
   "source": [
    "# getting a list of generated products (columns):\n",
    "def prod_in_columns():\n",
    "    global products\n",
    "    products = df_api.columns\n",
    "    products = products[2:]\n",
    "    return products\n",
    "\n",
    "# transforming prod_0 – prod_7 into integer, because quantity of products purchased is in units:\n",
    "def integer_prod():\n",
    "    for i in products:\n",
    "        for j in range(8):\n",
    "            if i == f'prod_{j}':\n",
    "                df_api[i] = df_api[i].apply(np.floor)\n",
    "    return\n",
    "\n",
    "# creating random prices for items for the first time\n",
    "def price_products():\n",
    "    global v\n",
    "    for i in products:\n",
    "        if i not in dict_price.keys():\n",
    "            dict_price[i] = [round(random.uniform(1, 5),2),None,None]\n",
    "            dict_price[i][1] = df_api[i].sum()\n",
    "            dict_price[i][2] = df_api[i].sum()\n",
    "        else:\n",
    "            dict_price[i][1] = dict_price[i][2]\n",
    "            dict_price[i][2] = df_api[i].sum()\n",
    "            v = dict_price[i][2] - dict_price[i][1]\n",
    "            dict_price[i][0] = round(dict_price[i][0] + (np.exp((-1)*v)/(1+np.exp((-1)*v))),2)\n",
    "    return\n",
    "\n",
    "# apply the unit price created into the DataFrame\n",
    "def unit_price():\n",
    "    for i in products:\n",
    "        indice_column = df_api.columns.get_loc(i)\n",
    "        indice_column += 1\n",
    "        df_api.insert(indice_column,f'{i}_unit_price',dict_price[i][0])\n",
    "    return\n",
    "\n",
    "# creating a column with profits (quantity x unit price)\n",
    "def prod_profit():\n",
    "    for i in products:\n",
    "        indice_column = df_api.columns.get_loc(i)\n",
    "        indice_column += 2\n",
    "        df_api.insert(indice_column,f'{i}_revenue',(df_api[i]*df_api[f'{i}_unit_price']))\n",
    "        df_api[f'{i}_revenue'] = df_api[f'{i}_revenue'].apply(lambda x: round(x,2))\n",
    "    return\n",
    "\n",
    "# concatenando os dataframes gerados a partir da API\n",
    "def concat_api():\n",
    "    global df_concat\n",
    "    df_concat = pd.concat([df_concat, df_api], axis=0, join='outer')\n",
    "    df_concat= df_concat.reset_index(drop=True)\n",
    "    return"
   ]
  },
  {
   "cell_type": "markdown",
   "id": "6fd716b6-d509-493a-ad67-a6e801716f7c",
   "metadata": {
    "jp-MarkdownHeadingCollapsed": true,
    "tags": []
   },
   "source": [
    "## TESTES"
   ]
  },
  {
   "cell_type": "code",
   "execution_count": null,
   "id": "e43239c1-53de-4da0-9b58-b4e1e8bddb25",
   "metadata": {},
   "outputs": [],
   "source": [
    "# IMPORTANT: Use df_api as variable\n",
    "for i in range(500):\n",
    "    df_api = request_api('http://localhost:3000/api/ep1')\n",
    "    prod_in_columns()\n",
    "    integer_prod()\n",
    "    price_products()\n",
    "    unit_price()\n",
    "    prod_profit()\n",
    "    concat_api()\n",
    "    \n",
    "df_concat['date'] = df_concat['date'].apply(lambda x: datetime.datetime.fromtimestamp(x))"
   ]
  },
  {
   "cell_type": "code",
   "execution_count": null,
   "id": "e2afa0c9-cf7c-40b9-b4d0-4d4199fe351e",
   "metadata": {},
   "outputs": [],
   "source": [
    "df_api.shape"
   ]
  },
  {
   "cell_type": "code",
   "execution_count": null,
   "id": "259bcd86-f90e-4dfd-a371-570845fefbf2",
   "metadata": {},
   "outputs": [],
   "source": [
    "df_api.tail()"
   ]
  },
  {
   "cell_type": "code",
   "execution_count": null,
   "id": "0030d260-e600-4bf4-b1b2-538c80b229d9",
   "metadata": {},
   "outputs": [],
   "source": [
    "dict_price"
   ]
  },
  {
   "cell_type": "code",
   "execution_count": null,
   "id": "1d474b7d-4484-41fb-a8c7-b91bea144225",
   "metadata": {},
   "outputs": [],
   "source": [
    "df_concat.shape"
   ]
  },
  {
   "cell_type": "code",
   "execution_count": null,
   "id": "7c7d8a91-f76b-4e33-a38d-e2e4ad31095f",
   "metadata": {},
   "outputs": [],
   "source": [
    "df_concat.sample(5)"
   ]
  },
  {
   "cell_type": "markdown",
   "id": "5b7fa3c0-74d3-48ce-ae2e-effd5d817df5",
   "metadata": {
    "jp-MarkdownHeadingCollapsed": true,
    "tags": []
   },
   "source": [
    "## Part I - Creating DataFrame and Data Wrangling"
   ]
  },
  {
   "cell_type": "code",
   "execution_count": null,
   "id": "bcaf4f75-9cef-4684-95e0-deb38b930fd5",
   "metadata": {},
   "outputs": [],
   "source": [
    "# creating table and putting a week list:\n",
    "df_api = request_api('http://localhost:3000/api/ep1')\n",
    "df_api.head(5)"
   ]
  },
  {
   "cell_type": "code",
   "execution_count": null,
   "id": "48edc402-b59d-4297-9e9d-947efb5fc2f0",
   "metadata": {},
   "outputs": [],
   "source": [
    "# getting a list of generated products (columns):\n",
    "def prod_in_columns():\n",
    "    global products\n",
    "    products = df_api.columns\n",
    "    products = products[2:]\n",
    "    return products"
   ]
  },
  {
   "cell_type": "code",
   "execution_count": null,
   "id": "485f718b-5955-4952-b5f4-847ea7924a50",
   "metadata": {},
   "outputs": [],
   "source": [
    "prod_in_columns()"
   ]
  },
  {
   "cell_type": "code",
   "execution_count": null,
   "id": "56e1b15a-4528-4cb9-847f-6c6ae34892ef",
   "metadata": {},
   "outputs": [],
   "source": [
    "# transforming prod_0 – prod_7 into integer, because quantity of products purchased is in units:\n",
    "def integer_prod():\n",
    "    for i in products:\n",
    "        for j in range(8):\n",
    "            if i == f'prod_{j}':\n",
    "                df_api[i] = df_api[i].apply(np.floor)\n",
    "    return"
   ]
  },
  {
   "cell_type": "code",
   "execution_count": null,
   "id": "31a2adcb-7b16-47f9-9d52-764fac9935cd",
   "metadata": {},
   "outputs": [],
   "source": [
    "integer_prod()"
   ]
  },
  {
   "cell_type": "code",
   "execution_count": null,
   "id": "f50fc9cb-e619-49a0-97bd-3a0bc2ac5b16",
   "metadata": {},
   "outputs": [],
   "source": [
    "df_api.head()"
   ]
  },
  {
   "cell_type": "code",
   "execution_count": null,
   "id": "17f40853-e5c1-4441-ac0f-c41781fd5f88",
   "metadata": {},
   "outputs": [],
   "source": [
    "# creating random prices for items for the first time\n",
    "def price_products():\n",
    "    global v\n",
    "    for i in products:\n",
    "        if i not in dict_price.keys():\n",
    "            dict_price[i] = [round(random.uniform(1, 5),2),None,None]\n",
    "            dict_price[i][1] = df_api[i].sum()\n",
    "            dict_price[i][2] = df_api[i].sum()\n",
    "        else:\n",
    "            dict_price[i][1] = dict_price[i][2]\n",
    "            dict_price[i][2] = df_api[i].sum()\n",
    "            v = dict_price[i][2] - dict_price[i][1]\n",
    "            dict_price[i][0] = round(dict_price[i][0] + (np.exp(-v)/(1+np.exp(-v))),2)\n",
    "    return"
   ]
  },
  {
   "cell_type": "code",
   "execution_count": null,
   "id": "7b44a79b-4862-4e42-af25-59d7ddf5e913",
   "metadata": {},
   "outputs": [],
   "source": [
    "price_products()"
   ]
  },
  {
   "cell_type": "code",
   "execution_count": null,
   "id": "59ecd4d1-085b-4b64-8d16-88ff1ba942b1",
   "metadata": {},
   "outputs": [],
   "source": [
    "v"
   ]
  },
  {
   "cell_type": "code",
   "execution_count": null,
   "id": "7e8246b6-b586-4c82-83d6-67c59985a731",
   "metadata": {},
   "outputs": [],
   "source": [
    "dict_price"
   ]
  },
  {
   "cell_type": "code",
   "execution_count": null,
   "id": "3daf43a7-2a1b-4d97-a7d4-b52cbceff008",
   "metadata": {},
   "outputs": [],
   "source": [
    "# apply the unit price created into the DataFrame\n",
    "def unit_price():\n",
    "    for i in dict_price.keys():\n",
    "        indice_column = df_api.columns.get_loc(i)\n",
    "        indice_column += 1\n",
    "        df_api.insert(indice_column,f'{i}_unit_price',dict_price[i][0])\n",
    "    return"
   ]
  },
  {
   "cell_type": "code",
   "execution_count": null,
   "id": "31248bbb-6b94-4408-af9e-27a73e5fab8d",
   "metadata": {},
   "outputs": [],
   "source": [
    "unit_price()"
   ]
  },
  {
   "cell_type": "code",
   "execution_count": null,
   "id": "521fa139-6a1d-49d3-b5c1-8375e094d775",
   "metadata": {},
   "outputs": [],
   "source": [
    " df_api.head()"
   ]
  },
  {
   "cell_type": "code",
   "execution_count": null,
   "id": "7cef816c-32f6-498c-b40c-b422662608f7",
   "metadata": {},
   "outputs": [],
   "source": [
    "# creating a column with profits (quantity x unit price)\n",
    "def prod_profit():\n",
    "    for i in dict_price.keys():\n",
    "        indice_column = df_api.columns.get_loc(i)\n",
    "        indice_column += 2\n",
    "        df_api.insert(indice_column,f'{i}_revenue',(df_api[i]*df_api[f'{i}_unit_price']))\n",
    "        df_api[f'{i}_revenue'] = df_api[f'{i}_revenue'].apply(lambda x: round(x,2))\n",
    "    return"
   ]
  },
  {
   "cell_type": "code",
   "execution_count": null,
   "id": "1d2ae127-ff9d-4d85-bfab-bf74b972a52f",
   "metadata": {},
   "outputs": [],
   "source": [
    "prod_profit()"
   ]
  },
  {
   "cell_type": "code",
   "execution_count": null,
   "id": "d9404385-a94b-4e54-84c0-942c5afbb283",
   "metadata": {},
   "outputs": [],
   "source": [
    "df_api.tail()"
   ]
  },
  {
   "cell_type": "markdown",
   "id": "546a2edc-d82a-4d54-806b-88ca8af2caeb",
   "metadata": {
    "jp-MarkdownHeadingCollapsed": true,
    "tags": []
   },
   "source": [
    "## Part II - Concating tables"
   ]
  },
  {
   "cell_type": "code",
   "execution_count": null,
   "id": "e9874daa-8fac-40b0-98f3-1b2b477e57ce",
   "metadata": {},
   "outputs": [],
   "source": [
    "# concatenando os dataframes gerados a partir da API\n",
    "def concat_api():\n",
    "    global df_concat\n",
    "    df_concat = pd.concat([df_concat, df_api], axis=0, join='outer')\n",
    "    df_concat= df_concat.reset_index(drop=True)\n",
    "    return"
   ]
  },
  {
   "cell_type": "code",
   "execution_count": null,
   "id": "1e22f39d-ab16-4d61-a407-13cbbeded028",
   "metadata": {},
   "outputs": [],
   "source": [
    "concat_api()"
   ]
  },
  {
   "cell_type": "code",
   "execution_count": null,
   "id": "5c582e6c-278a-4556-bf32-04c6b0dcc597",
   "metadata": {},
   "outputs": [],
   "source": [
    "df_concat.tail(5)"
   ]
  },
  {
   "cell_type": "code",
   "execution_count": null,
   "id": "e823c5af-0c5b-46ae-aad5-6926518bbdb1",
   "metadata": {},
   "outputs": [],
   "source": [
    "df_concat.to_csv(\"all_sales\")"
   ]
  },
  {
   "cell_type": "markdown",
   "id": "a7bda768-833a-4ad9-8649-6b129b1feb3e",
   "metadata": {
    "jp-MarkdownHeadingCollapsed": true,
    "tags": []
   },
   "source": [
    "## Part III - Groupby"
   ]
  },
  {
   "cell_type": "markdown",
   "id": "9b3c92b9-f72d-42cd-aca6-d82aa4f0f541",
   "metadata": {},
   "source": [
    "Display a pandas DataFrame with a given format using:"
   ]
  },
  {
   "cell_type": "code",
   "execution_count": null,
   "id": "251f391d-98df-4d12-b1a3-c0d92c02a02e",
   "metadata": {},
   "outputs": [],
   "source": [
    "pd.options.display.float_format = '{:.2f}'.format"
   ]
  },
  {
   "cell_type": "markdown",
   "id": "646ae8ef-b672-4e4d-a63b-0f3be88ef163",
   "metadata": {},
   "source": [
    "Creating first a DataFrame only with 'id' and 'date'"
   ]
  },
  {
   "cell_type": "code",
   "execution_count": null,
   "id": "5fed2110-5684-4660-9c3e-8056b538d5c1",
   "metadata": {},
   "outputs": [],
   "source": [
    "df_id_date = df_concat.iloc[:,:2]"
   ]
  },
  {
   "cell_type": "code",
   "execution_count": null,
   "id": "de6b357d-a70c-4563-807a-687cfdfb90e4",
   "metadata": {},
   "outputs": [],
   "source": [
    "df_id_date.tail()"
   ]
  },
  {
   "cell_type": "markdown",
   "id": "0b0e44a2-acae-4e7a-8442-2a761a7d8dbc",
   "metadata": {},
   "source": [
    "Creating a DataFrame only with the product quantity transaction data"
   ]
  },
  {
   "cell_type": "code",
   "execution_count": null,
   "id": "42a34049-556a-43f4-8575-d3fdaa7c3194",
   "metadata": {},
   "outputs": [],
   "source": [
    "df_prod = pd.concat([df_id_date, df_concat.iloc[:,2::3]], axis=1, join='outer')"
   ]
  },
  {
   "cell_type": "code",
   "execution_count": null,
   "id": "c2e5daa7-9b69-47bc-be20-1f6d1b161705",
   "metadata": {},
   "outputs": [],
   "source": [
    "df_prod.head(3)"
   ]
  },
  {
   "cell_type": "markdown",
   "id": "53e8b02b-6b55-4c60-b08b-0bc1a8822577",
   "metadata": {},
   "source": [
    "Creating a DataFrame with the unit price data of the products"
   ]
  },
  {
   "cell_type": "code",
   "execution_count": null,
   "id": "b74c688e-28a6-4c92-b2ca-dc9fc8a17f9b",
   "metadata": {},
   "outputs": [],
   "source": [
    "df_prod_price = pd.concat([df_id_date, df_concat.iloc[:,3::3]], axis=1, join='outer')"
   ]
  },
  {
   "cell_type": "code",
   "execution_count": null,
   "id": "02a9043e-0b69-4e30-9046-f5f7d76358a6",
   "metadata": {},
   "outputs": [],
   "source": [
    "df_prod_price.head(3)"
   ]
  },
  {
   "cell_type": "markdown",
   "id": "b3b3ec75-f5c1-4bd6-8107-dd39e424d294",
   "metadata": {},
   "source": [
    "Creating a table only with the product's revenue data"
   ]
  },
  {
   "cell_type": "code",
   "execution_count": null,
   "id": "80b62869-f4af-4922-9ce2-92088f2441ec",
   "metadata": {},
   "outputs": [],
   "source": [
    "df_prod_revenue = pd.concat([df_id_date, df_concat.iloc[:,4::3]], axis=1, join='outer')"
   ]
  },
  {
   "cell_type": "code",
   "execution_count": null,
   "id": "d324e181-2baf-409c-82ab-c7c18618aec7",
   "metadata": {},
   "outputs": [],
   "source": [
    "df_prod_revenue.head()"
   ]
  },
  {
   "cell_type": "markdown",
   "id": "3c488a6f-58c3-4314-b51a-50719043c732",
   "metadata": {
    "jp-MarkdownHeadingCollapsed": true,
    "tags": []
   },
   "source": [
    "### Database with all transactions"
   ]
  },
  {
   "cell_type": "code",
   "execution_count": null,
   "id": "a1a49ba9-af99-49c2-a899-60c39fb77bd0",
   "metadata": {},
   "outputs": [],
   "source": [
    "df_all_sales = df_concat\n"
   ]
  },
  {
   "cell_type": "code",
   "execution_count": null,
   "id": "62ef1276-d0fc-4531-9151-ad767ab8be32",
   "metadata": {},
   "outputs": [],
   "source": [
    "df_all_sales.head()"
   ]
  },
  {
   "cell_type": "markdown",
   "id": "5d79aefc-c990-4fe7-a1f1-dc3d94a46392",
   "metadata": {
    "jp-MarkdownHeadingCollapsed": true,
    "tags": []
   },
   "source": [
    "### Database with total transactions by month"
   ]
  },
  {
   "cell_type": "code",
   "execution_count": null,
   "id": "8ba92d0f-1979-4684-b32b-6f9b44cf8765",
   "metadata": {},
   "outputs": [],
   "source": [
    "df_consolidate = df_prod.groupby(pd.Grouper(key='date', freq='M')).sum()"
   ]
  },
  {
   "cell_type": "code",
   "execution_count": null,
   "id": "e1c78782-c6d2-482d-a59a-c21ea93ea944",
   "metadata": {},
   "outputs": [],
   "source": [
    "df_consolidate['balance'] = df_consolidate.iloc[:,:].sum(axis = 1)"
   ]
  },
  {
   "cell_type": "code",
   "execution_count": null,
   "id": "9c69b591-9351-4076-aa42-1b7a91a7a433",
   "metadata": {},
   "outputs": [],
   "source": [
    "df_consolidate.head()"
   ]
  },
  {
   "cell_type": "markdown",
   "id": "a73a4131-7313-435e-ad19-03e6a43d6662",
   "metadata": {
    "jp-MarkdownHeadingCollapsed": true,
    "tags": []
   },
   "source": [
    "### Database with weekly price of products, in R$."
   ]
  },
  {
   "cell_type": "code",
   "execution_count": null,
   "id": "3fd3234f-6d44-4457-8d92-6732742571de",
   "metadata": {},
   "outputs": [],
   "source": [
    "df_weekly_price = df_prod_price.groupby(pd.Grouper(key='date', freq='W')).max()"
   ]
  },
  {
   "cell_type": "code",
   "execution_count": null,
   "id": "c169e6f9-f2ac-49fd-bea1-4dc2532cdbcf",
   "metadata": {},
   "outputs": [],
   "source": [
    "df_weekly_price.head()"
   ]
  },
  {
   "cell_type": "markdown",
   "id": "354ad2bd-06e9-40e7-949e-d365336663fb",
   "metadata": {
    "jp-MarkdownHeadingCollapsed": true,
    "tags": []
   },
   "source": [
    "### Database with total monthly sales, in R$."
   ]
  },
  {
   "cell_type": "markdown",
   "id": "4d708653-91fb-4697-90fe-5d9400e1f96b",
   "metadata": {},
   "source": [
    "Modifying column names"
   ]
  },
  {
   "cell_type": "code",
   "execution_count": null,
   "id": "e5ba5977-d1b0-4306-a8cc-96041b540819",
   "metadata": {},
   "outputs": [],
   "source": [
    "standardized_columns = dict_price.keys()\n",
    "standardized_columns = list(standardized_columns)"
   ]
  },
  {
   "cell_type": "code",
   "execution_count": null,
   "id": "34c22d3a-9fe9-478b-b903-6d615db7a1ad",
   "metadata": {},
   "outputs": [],
   "source": [
    "standardized_columns.append('balance')"
   ]
  },
  {
   "cell_type": "code",
   "execution_count": null,
   "id": "61b1a571-63a1-4b95-9057-ab474fa2a3d1",
   "metadata": {},
   "outputs": [],
   "source": [
    "standardized_columns"
   ]
  },
  {
   "cell_type": "code",
   "execution_count": null,
   "id": "9d11a711-e6e2-4af1-a3f8-e057def326d3",
   "metadata": {},
   "outputs": [],
   "source": [
    "df_monthly_revenue = df_prod_revenue.groupby(pd.Grouper(key='date', freq='M')).sum()"
   ]
  },
  {
   "cell_type": "code",
   "execution_count": null,
   "id": "e438ed54-b528-4678-81b2-d465268c1828",
   "metadata": {},
   "outputs": [],
   "source": [
    "df_monthly_revenue['balance'] = df_monthly_revenue.iloc[:,:].sum(axis = 1)"
   ]
  },
  {
   "cell_type": "code",
   "execution_count": null,
   "id": "0a429550-882e-4e8b-aa58-dce1db115f90",
   "metadata": {},
   "outputs": [],
   "source": [
    "df_monthly_revenue.columns = standardized_columns"
   ]
  },
  {
   "cell_type": "code",
   "execution_count": null,
   "id": "61c262c4-9f8d-46bc-a3d2-4bddcb2c9185",
   "metadata": {},
   "outputs": [],
   "source": [
    "df_monthly_revenue"
   ]
  },
  {
   "cell_type": "markdown",
   "id": "5da53dfc-62fc-4da0-91ed-73a0c4bb3f1b",
   "metadata": {
    "jp-MarkdownHeadingCollapsed": true,
    "tags": []
   },
   "source": [
    "## Part IV - Creating Data Bases"
   ]
  },
  {
   "cell_type": "markdown",
   "id": "78996a04-dbc6-4575-9587-93f6a30585c1",
   "metadata": {
    "tags": []
   },
   "source": [
    "### All Sales"
   ]
  },
  {
   "cell_type": "code",
   "execution_count": null,
   "id": "57922df8-cc54-4770-8938-ee2f2a5433df",
   "metadata": {},
   "outputs": [],
   "source": [
    "all_sales.to_csv(\"df_all_sales.csv\")"
   ]
  },
  {
   "cell_type": "markdown",
   "id": "b575e88b-0b9b-4ca4-9186-80f0137e03ed",
   "metadata": {},
   "source": [
    "### Monthly Sales"
   ]
  },
  {
   "cell_type": "code",
   "execution_count": null,
   "id": "628bd664-d4fb-4217-9242-46d3e15fd355",
   "metadata": {},
   "outputs": [],
   "source": [
    "df_monthly_sales.to_csv(\"df_consolidate.csv\")"
   ]
  },
  {
   "cell_type": "markdown",
   "id": "28e5b415-7b2f-4877-bc1c-d9588ac6e3bb",
   "metadata": {},
   "source": [
    "### Weekly Price"
   ]
  },
  {
   "cell_type": "code",
   "execution_count": null,
   "id": "1cd51d4b-e257-4890-8f55-9b9ec3563cb7",
   "metadata": {},
   "outputs": [],
   "source": [
    "df_weekly_price.to_csv(\"df_weekly_price.csv\")"
   ]
  },
  {
   "cell_type": "markdown",
   "id": "fe02ea5b-a7e4-4472-b0a3-543904b7442f",
   "metadata": {},
   "source": [
    "### Monthly Revenue"
   ]
  },
  {
   "cell_type": "code",
   "execution_count": null,
   "id": "988bf4ec-2638-47cd-b661-ea8390f434cd",
   "metadata": {},
   "outputs": [],
   "source": [
    "df_monthly_revenue.to_csv(\"df_month_revenue.csv\")"
   ]
  },
  {
   "cell_type": "markdown",
   "id": "670dfeab-7975-4ed2-95a9-701fe2c3d03f",
   "metadata": {
    "jp-MarkdownHeadingCollapsed": true,
    "tags": []
   },
   "source": [
    "## Part V - Exploratory Data Analysis (EDA)"
   ]
  },
  {
   "cell_type": "code",
   "execution_count": null,
   "id": "2f89cbf6-7f6a-4bea-bf34-bb8fa62f2a48",
   "metadata": {},
   "outputs": [],
   "source": []
  }
 ],
 "metadata": {
  "kernelspec": {
   "display_name": "Python 3 (ipykernel)",
   "language": "python",
   "name": "python3"
  },
  "language_info": {
   "codemirror_mode": {
    "name": "ipython",
    "version": 3
   },
   "file_extension": ".py",
   "mimetype": "text/x-python",
   "name": "python",
   "nbconvert_exporter": "python",
   "pygments_lexer": "ipython3",
   "version": "3.9.12"
  },
  "vscode": {
   "interpreter": {
    "hash": "6e3977c52f5249dbc2a33b897faad1e0916758085298811edbd14ed6ad707d81"
   }
  }
 },
 "nbformat": 4,
 "nbformat_minor": 5
}
