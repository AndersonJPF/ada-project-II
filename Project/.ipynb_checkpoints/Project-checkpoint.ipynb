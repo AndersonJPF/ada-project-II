{
 "cells": [
  {
   "cell_type": "markdown",
   "id": "cb20aa51-9534-42dd-bc72-a94f5980e538",
   "metadata": {},
   "source": [
    "<center><strong><h1>\n",
    "    ADA FINAL PROJECT </h1></strong></center>"
   ]
  },
  {
   "cell_type": "markdown",
   "id": "8d4c99a6-81bf-4811-ac1c-fb1368735c68",
   "metadata": {
    "tags": []
   },
   "source": [
    "<center>\n",
    "<img src=\"https://i.postimg.cc/G3vX5dvW/new-product-sales-turn-innovation-into-growth-4x.png\" width=\"600\" alt=\"cognitiveclass.ai logo\"  /></center>"
   ]
  },
  {
   "cell_type": "markdown",
   "id": "755112e1-2bca-4eec-9592-7a375c38a814",
   "metadata": {
    "tags": []
   },
   "source": [
    "# Project Code"
   ]
  },
  {
   "cell_type": "markdown",
   "id": "93be0b67-6cfa-47a8-b9fb-7df9709932c7",
   "metadata": {
    "jp-MarkdownHeadingCollapsed": true,
    "tags": []
   },
   "source": [
    "## Ada_project"
   ]
  },
  {
   "cell_type": "markdown",
   "id": "d6fd2ecc-5067-4b84-a005-308c2e9a4c07",
   "metadata": {
    "tags": []
   },
   "source": [
    "Repository for the essential files for the final project of the Programming Techniques course - Ada tech. The practical objective of this project is to develop a system for storing, maintaining and manipulating databases using pandas.\n",
    "\n",
    "In this work, we want to create a system for organizing product sales data in a company. There are already two services that implement different blocks of a complete project.\n",
    "Repository for the essential files for the final project of the Programming Techniques course - Ada tech. The practical objective of this project is to develop a system for storing, maintaining and manipulating databases using pandas.\n",
    "\n",
    "In this work, we want to create a system for organizing product sales data in a company. There are already two services that implement different blocks of a complete project.\n",
    "\n",
    "### Part 1 - Data Acquisition\n",
    "Initially, a web-server created in Javascript will serve as an entry point for the data, simulating the weekly acquisition of all products sold by the company. To run the server, you need to install [NodeJS](https://nodejs.org/en/). With the repository folder already cloned, you must use the following commands to install the packages.\n",
    "\n",
    "`npm init`\n",
    "`npm install`\n",
    "\n",
    "Then just run the `node web-server.js` command. To request the data in JSON format, just use a GET request to localhost:3000/api/ep1\n",
    "\n",
    "### Part 2 - Data Storage and Management\n",
    "\n",
    "This is the necessary stage of the project. The student must be able to create a system that can update tables in the face of new data. Also, the formatting of dataframes must be in accordance with the project's specifications, so that communication with the dashboard can be stablished immediately and correctly, without any further adaptation. \n",
    "\n",
    "### Part 3 - Data visualization\n",
    "\n",
    "Last step of the project pipeline. Using the aforementioned tables, this script generates a dashboard containing essential info for data visualization. The script uses the `streamlit` framework. In order to run locally, the student should install the package (either using `pip install streamlit` or `conda install streamlit`). To run the application, just type `streamlit run app.py` and access localhost:8501 to view the dashboard. If the second part of the project is done correctly, the dashboard should work like the image below.\n",
    "\n",
    "![example](https://github.com/mdrs-thiago/ada_project/blob/492aafd0f66fdb37fec04a4e72c085ca7aba87f1/ada_project_dashboard.png)"
   ]
  },
  {
   "cell_type": "markdown",
   "id": "8d809c6b-5d99-4a73-b3bf-24e6d8a1b2e0",
   "metadata": {
    "tags": []
   },
   "source": [
    "## Imports"
   ]
  },
  {
   "cell_type": "code",
   "execution_count": null,
   "id": "15185743-2122-4397-ab87-604b918a3839",
   "metadata": {},
   "outputs": [],
   "source": [
    "import pandas as pd\n",
    "import numpy as np\n",
    "import requests\n",
    "import datetime \n",
    "import random\n",
    "import matplotlib.pyplot as plt\n",
    "import seaborn as sns\n",
    "%matplotlib inline \n",
    "\n",
    "#import unicodedata\n",
    "#import math\n",
    "#import time"
   ]
  },
  {
   "cell_type": "code",
   "execution_count": null,
   "id": "c47fbed0-375d-4135-b25a-5cb40f654616",
   "metadata": {},
   "outputs": [],
   "source": [
    "# show all Columns\n",
    "pd.set_option(\"display.max_columns\", None)"
   ]
  },
  {
   "cell_type": "markdown",
   "id": "56c7dc1a-d6f2-4a68-b72a-6d2b74df9ff8",
   "metadata": {
    "tags": []
   },
   "source": [
    "## Main Fuctions"
   ]
  },
  {
   "cell_type": "code",
   "execution_count": null,
   "id": "d2866d95-fefc-4fb5-b44f-d50cede0a189",
   "metadata": {},
   "outputs": [],
   "source": [
    "dict_price = {}\n",
    "df_concat = pd.DataFrame()"
   ]
  },
  {
   "cell_type": "code",
   "execution_count": null,
   "id": "2ddf7518-afe2-49aa-b6fc-d2f3e05a410f",
   "metadata": {},
   "outputs": [],
   "source": [
    "def request_api (x:str):\n",
    "    '''\n",
    "    x: str <- link da API\n",
    "    '''\n",
    "    exemple = requests.get(x)\n",
    "    dados = exemple.json()\n",
    "    df = pd.json_normalize(dados)\n",
    "    df['date'] = df['date'].apply(lambda x: datetime.datetime.fromtimestamp(x))\n",
    "    df.insert(2,'week_number',df['date'].dt.isocalendar().week)\n",
    "    df.iloc[:,3:] = df.iloc[:,3:].abs()\n",
    "    \n",
    "    return df"
   ]
  },
  {
   "cell_type": "code",
   "execution_count": null,
   "id": "ddc68c06-ae86-4aaf-a238-2a22f19e35b2",
   "metadata": {},
   "outputs": [],
   "source": [
    "# getting a list of generated products (columns):\n",
    "def retorno_colunas():\n",
    "    global products\n",
    "    products = df_api.columns\n",
    "    products = products[3:]\n",
    "    return products\n",
    "\n",
    "# transforming prod_0 – prod_7 into integer, because quantity of products purchased is in units:\n",
    "def integer_prod():\n",
    "    for i in products:\n",
    "        for j in range(8):\n",
    "            if i == f'prod_{j}':\n",
    "                df_api[i] = df_api[i].apply(np.floor)\n",
    "    return\n",
    "\n",
    "# creating random prices for items for the first time\n",
    "def price_products():\n",
    "    global v\n",
    "    for i in products:\n",
    "        if i not in dict_price.keys():\n",
    "            dict_price[i] = [round(random.uniform(1, 5),2),None,None]\n",
    "            dict_price[i][1] = df_api[i].sum()\n",
    "            dict_price[i][2] = df_api[i].sum()\n",
    "        else:\n",
    "            dict_price[i][1] = dict_price[i][2]\n",
    "            dict_price[i][2] = df_api[i].sum()\n",
    "            v = abs(dict_price[i][2] - dict_price[i][1])\n",
    "            dict_price[i][0] = round(dict_price[i][0] + (np.exp(-v)/(1+np.exp(-v))),2)\n",
    "    return\n",
    "\n",
    "# apply the unit price created into the DataFrame\n",
    "def unit_price():\n",
    "    for i in products:\n",
    "        indice_column = df_api.columns.get_loc(i)\n",
    "        indice_column += 1\n",
    "        df_api.insert(indice_column,f'{i}_unit_price',dict_price[i][0])\n",
    "    return\n",
    "\n",
    "# creating a column with profits (quantity x unit price)\n",
    "def prod_profit():\n",
    "    for i in products:\n",
    "        indice_column = df_api.columns.get_loc(i)\n",
    "        indice_column += 2\n",
    "        df_api.insert(indice_column,f'{i}_profit',(df_api[i]*df_api[f'{i}_unit_price']))\n",
    "        df_api[f'{i}_profit'] = df_api[f'{i}_profit'].apply(lambda x: round(x,2))\n",
    "    return\n",
    "\n",
    "# concatenando os dataframes gerados a partir da API\n",
    "def concat_api():\n",
    "    global df_concat\n",
    "    df_concat = pd.concat([df_concat, df_api], axis=0, join='outer')\n",
    "    df_concat= df_concat.reset_index(drop=True)\n",
    "    return"
   ]
  },
  {
   "cell_type": "markdown",
   "id": "6fd716b6-d509-493a-ad67-a6e801716f7c",
   "metadata": {
    "tags": []
   },
   "source": [
    "## TESTES"
   ]
  },
  {
   "cell_type": "code",
   "execution_count": null,
   "id": "e43239c1-53de-4da0-9b58-b4e1e8bddb25",
   "metadata": {},
   "outputs": [],
   "source": [
    "# IMPORTANT: Use df_api as variable\n",
    "for i in range(200):\n",
    "    df_api = request_api('http://localhost:3000/api/ep1')\n",
    "    retorno_colunas()\n",
    "    integer_prod()\n",
    "    price_products()\n",
    "    unit_price()\n",
    "    prod_profit()\n",
    "    concat_api()"
   ]
  },
  {
   "cell_type": "code",
   "execution_count": null,
   "id": "e2afa0c9-cf7c-40b9-b4d0-4d4199fe351e",
   "metadata": {},
   "outputs": [],
   "source": [
    "df_api.shape"
   ]
  },
  {
   "cell_type": "code",
   "execution_count": null,
   "id": "259bcd86-f90e-4dfd-a371-570845fefbf2",
   "metadata": {},
   "outputs": [],
   "source": [
    "df_api.tail()"
   ]
  },
  {
   "cell_type": "code",
   "execution_count": null,
   "id": "0030d260-e600-4bf4-b1b2-538c80b229d9",
   "metadata": {},
   "outputs": [],
   "source": [
    "dict_price"
   ]
  },
  {
   "cell_type": "code",
   "execution_count": null,
   "id": "66cad085-39b5-4fa9-b816-54276d2c6570",
   "metadata": {},
   "outputs": [],
   "source": [
    "#concat_api()"
   ]
  },
  {
   "cell_type": "code",
   "execution_count": null,
   "id": "1d474b7d-4484-41fb-a8c7-b91bea144225",
   "metadata": {},
   "outputs": [],
   "source": [
    "df_concat.shape"
   ]
  },
  {
   "cell_type": "code",
   "execution_count": null,
   "id": "7c7d8a91-f76b-4e33-a38d-e2e4ad31095f",
   "metadata": {},
   "outputs": [],
   "source": [
    "df_concat.tail()"
   ]
  },
  {
   "cell_type": "markdown",
   "id": "5b7fa3c0-74d3-48ce-ae2e-effd5d817df5",
   "metadata": {
    "jp-MarkdownHeadingCollapsed": true,
    "tags": []
   },
   "source": [
    "## Part I - Creating DataFrame and Data Wrangling"
   ]
  },
  {
   "cell_type": "code",
   "execution_count": null,
   "id": "bcaf4f75-9cef-4684-95e0-deb38b930fd5",
   "metadata": {},
   "outputs": [],
   "source": [
    "# creating table and putting a week list:\n",
    "df_api = request_api('http://localhost:3000/api/ep1')\n",
    "df_api.head(5)"
   ]
  },
  {
   "cell_type": "code",
   "execution_count": null,
   "id": "48edc402-b59d-4297-9e9d-947efb5fc2f0",
   "metadata": {},
   "outputs": [],
   "source": [
    "# getting a list of generated products (columns):\n",
    "def retorno_colunas():\n",
    "    global products\n",
    "    products = df_api.columns\n",
    "    products = products[3:]\n",
    "    return products"
   ]
  },
  {
   "cell_type": "code",
   "execution_count": null,
   "id": "485f718b-5955-4952-b5f4-847ea7924a50",
   "metadata": {},
   "outputs": [],
   "source": [
    "retorno_colunas()"
   ]
  },
  {
   "cell_type": "code",
   "execution_count": null,
   "id": "56e1b15a-4528-4cb9-847f-6c6ae34892ef",
   "metadata": {},
   "outputs": [],
   "source": [
    "# transforming prod_0 – prod_7 into integer, because quantity of products purchased is in units:\n",
    "def integer_prod():\n",
    "    for i in products:\n",
    "        for j in range(8):\n",
    "            if i == f'prod_{j}':\n",
    "                df_api[i] = df_api[i].apply(np.floor)\n",
    "    return"
   ]
  },
  {
   "cell_type": "code",
   "execution_count": null,
   "id": "31a2adcb-7b16-47f9-9d52-764fac9935cd",
   "metadata": {},
   "outputs": [],
   "source": [
    "integer_prod()"
   ]
  },
  {
   "cell_type": "code",
   "execution_count": null,
   "id": "f50fc9cb-e619-49a0-97bd-3a0bc2ac5b16",
   "metadata": {},
   "outputs": [],
   "source": [
    "df_api.head()"
   ]
  },
  {
   "cell_type": "code",
   "execution_count": null,
   "id": "17f40853-e5c1-4441-ac0f-c41781fd5f88",
   "metadata": {},
   "outputs": [],
   "source": [
    "# creating random prices for items for the first time\n",
    "def price_products():\n",
    "    global v\n",
    "    for i in products:\n",
    "        if i not in dict_price.keys():\n",
    "            dict_price[i] = [round(random.uniform(1, 5),2),None,None]\n",
    "            dict_price[i][1] = df_api[i].sum()\n",
    "            dict_price[i][2] = df_api[i].sum()\n",
    "        else:\n",
    "            dict_price[i][1] = dict_price[i][2]\n",
    "            dict_price[i][2] = df_api[i].sum()\n",
    "            v = abs(dict_price[i][2] - dict_price[i][1])\n",
    "            dict_price[i][0] = round(dict_price[i][0] + (np.exp(-v)/(1+np.exp(-v))),2)\n",
    "    return"
   ]
  },
  {
   "cell_type": "code",
   "execution_count": null,
   "id": "7b44a79b-4862-4e42-af25-59d7ddf5e913",
   "metadata": {},
   "outputs": [],
   "source": [
    "price_products()"
   ]
  },
  {
   "cell_type": "code",
   "execution_count": null,
   "id": "59ecd4d1-085b-4b64-8d16-88ff1ba942b1",
   "metadata": {},
   "outputs": [],
   "source": [
    "v"
   ]
  },
  {
   "cell_type": "code",
   "execution_count": null,
   "id": "7e8246b6-b586-4c82-83d6-67c59985a731",
   "metadata": {},
   "outputs": [],
   "source": [
    "dict_price"
   ]
  },
  {
   "cell_type": "code",
   "execution_count": null,
   "id": "3daf43a7-2a1b-4d97-a7d4-b52cbceff008",
   "metadata": {},
   "outputs": [],
   "source": [
    "# apply the unit price created into the DataFrame\n",
    "def unit_price():\n",
    "    for i in dict_price.keys():\n",
    "        indice_column = df_api.columns.get_loc(i)\n",
    "        indice_column += 1\n",
    "        df_api.insert(indice_column,f'{i}_unit_price',dict_price[i][0])\n",
    "    return"
   ]
  },
  {
   "cell_type": "code",
   "execution_count": null,
   "id": "31248bbb-6b94-4408-af9e-27a73e5fab8d",
   "metadata": {},
   "outputs": [],
   "source": [
    "unit_price()"
   ]
  },
  {
   "cell_type": "code",
   "execution_count": null,
   "id": "521fa139-6a1d-49d3-b5c1-8375e094d775",
   "metadata": {},
   "outputs": [],
   "source": [
    " df_api.head()"
   ]
  },
  {
   "cell_type": "code",
   "execution_count": null,
   "id": "7cef816c-32f6-498c-b40c-b422662608f7",
   "metadata": {},
   "outputs": [],
   "source": [
    "# creating a column with profits (quantity x unit price)\n",
    "def prod_profit():\n",
    "    for i in dict_price.keys():\n",
    "        indice_column = df_api.columns.get_loc(i)\n",
    "        indice_column += 2\n",
    "        df_api.insert(indice_column,f'{i}_profit',(df_api[i]*df_api[f'{i}_unit_price']))\n",
    "        df_api[f'{i}_profit'] = df_api[f'{i}_profit'].apply(lambda x: round(x,2))\n",
    "    return"
   ]
  },
  {
   "cell_type": "code",
   "execution_count": null,
   "id": "1d2ae127-ff9d-4d85-bfab-bf74b972a52f",
   "metadata": {},
   "outputs": [],
   "source": [
    "prod_profit()"
   ]
  },
  {
   "cell_type": "code",
   "execution_count": null,
   "id": "d9404385-a94b-4e54-84c0-942c5afbb283",
   "metadata": {},
   "outputs": [],
   "source": [
    "df_api.tail()"
   ]
  },
  {
   "cell_type": "markdown",
   "id": "546a2edc-d82a-4d54-806b-88ca8af2caeb",
   "metadata": {
    "jp-MarkdownHeadingCollapsed": true,
    "tags": []
   },
   "source": [
    "## Part II - Concating tables"
   ]
  },
  {
   "cell_type": "code",
   "execution_count": null,
   "id": "e9874daa-8fac-40b0-98f3-1b2b477e57ce",
   "metadata": {},
   "outputs": [],
   "source": [
    "# concatenando os dataframes gerados a partir da API\n",
    "def concat_api():\n",
    "    global df_concat\n",
    "    df_concat = pd.concat([df_concat, df_api], axis=0, join='outer')\n",
    "    df_concat= df_concat.reset_index(drop=True)\n",
    "    return"
   ]
  },
  {
   "cell_type": "code",
   "execution_count": null,
   "id": "1e22f39d-ab16-4d61-a407-13cbbeded028",
   "metadata": {},
   "outputs": [],
   "source": [
    "concat_api()"
   ]
  },
  {
   "cell_type": "code",
   "execution_count": null,
   "id": "5c582e6c-278a-4556-bf32-04c6b0dcc597",
   "metadata": {},
   "outputs": [],
   "source": [
    "df_concat.sample(10)"
   ]
  },
  {
   "cell_type": "code",
   "execution_count": null,
   "id": "e823c5af-0c5b-46ae-aad5-6926518bbdb1",
   "metadata": {},
   "outputs": [],
   "source": [
    "df_concat.to_csv(\"all_sales\")"
   ]
  },
  {
   "cell_type": "markdown",
   "id": "a7bda768-833a-4ad9-8649-6b129b1feb3e",
   "metadata": {
    "tags": []
   },
   "source": [
    "## Part III - Groupby"
   ]
  },
  {
   "cell_type": "code",
   "execution_count": 105,
   "id": "8ba92d0f-1979-4684-b32b-6f9b44cf8765",
   "metadata": {},
   "outputs": [
    {
     "data": {
      "text/html": [
       "<div>\n",
       "<style scoped>\n",
       "    .dataframe tbody tr th:only-of-type {\n",
       "        vertical-align: middle;\n",
       "    }\n",
       "\n",
       "    .dataframe tbody tr th {\n",
       "        vertical-align: top;\n",
       "    }\n",
       "\n",
       "    .dataframe thead th {\n",
       "        text-align: right;\n",
       "    }\n",
       "</style>\n",
       "<table border=\"1\" class=\"dataframe\">\n",
       "  <thead>\n",
       "    <tr style=\"text-align: right;\">\n",
       "      <th></th>\n",
       "      <th>week_number</th>\n",
       "      <th>prod_0</th>\n",
       "      <th>prod_0_unit_price</th>\n",
       "      <th>prod_0_profit</th>\n",
       "      <th>prod_1</th>\n",
       "      <th>prod_1_unit_price</th>\n",
       "      <th>prod_1_profit</th>\n",
       "      <th>prod_2</th>\n",
       "      <th>prod_2_unit_price</th>\n",
       "      <th>prod_2_profit</th>\n",
       "      <th>prod_3</th>\n",
       "      <th>prod_3_unit_price</th>\n",
       "      <th>prod_3_profit</th>\n",
       "      <th>prod_4</th>\n",
       "      <th>prod_4_unit_price</th>\n",
       "      <th>prod_4_profit</th>\n",
       "      <th>prod_7</th>\n",
       "      <th>prod_7_unit_price</th>\n",
       "      <th>prod_7_profit</th>\n",
       "      <th>prod_8</th>\n",
       "      <th>prod_8_unit_price</th>\n",
       "      <th>prod_8_profit</th>\n",
       "      <th>prod_9</th>\n",
       "      <th>prod_9_unit_price</th>\n",
       "      <th>prod_9_profit</th>\n",
       "      <th>prod_11</th>\n",
       "      <th>prod_11_unit_price</th>\n",
       "      <th>prod_11_profit</th>\n",
       "      <th>prod_5</th>\n",
       "      <th>prod_5_unit_price</th>\n",
       "      <th>prod_5_profit</th>\n",
       "      <th>prod_10</th>\n",
       "      <th>prod_10_unit_price</th>\n",
       "      <th>prod_10_profit</th>\n",
       "      <th>prod_6</th>\n",
       "      <th>prod_6_unit_price</th>\n",
       "      <th>prod_6_profit</th>\n",
       "      <th>prod_15</th>\n",
       "      <th>prod_15_unit_price</th>\n",
       "      <th>prod_15_profit</th>\n",
       "    </tr>\n",
       "    <tr>\n",
       "      <th>date</th>\n",
       "      <th></th>\n",
       "      <th></th>\n",
       "      <th></th>\n",
       "      <th></th>\n",
       "      <th></th>\n",
       "      <th></th>\n",
       "      <th></th>\n",
       "      <th></th>\n",
       "      <th></th>\n",
       "      <th></th>\n",
       "      <th></th>\n",
       "      <th></th>\n",
       "      <th></th>\n",
       "      <th></th>\n",
       "      <th></th>\n",
       "      <th></th>\n",
       "      <th></th>\n",
       "      <th></th>\n",
       "      <th></th>\n",
       "      <th></th>\n",
       "      <th></th>\n",
       "      <th></th>\n",
       "      <th></th>\n",
       "      <th></th>\n",
       "      <th></th>\n",
       "      <th></th>\n",
       "      <th></th>\n",
       "      <th></th>\n",
       "      <th></th>\n",
       "      <th></th>\n",
       "      <th></th>\n",
       "      <th></th>\n",
       "      <th></th>\n",
       "      <th></th>\n",
       "      <th></th>\n",
       "      <th></th>\n",
       "      <th></th>\n",
       "      <th></th>\n",
       "      <th></th>\n",
       "      <th></th>\n",
       "    </tr>\n",
       "  </thead>\n",
       "  <tbody>\n",
       "    <tr>\n",
       "      <th>2020-12-31</th>\n",
       "      <td>24588</td>\n",
       "      <td>11112.0</td>\n",
       "      <td>3019.87</td>\n",
       "      <td>39955.20</td>\n",
       "      <td>10714.0</td>\n",
       "      <td>2903.00</td>\n",
       "      <td>37010.02</td>\n",
       "      <td>9822.0</td>\n",
       "      <td>1212.07</td>\n",
       "      <td>14218.39</td>\n",
       "      <td>11158.0</td>\n",
       "      <td>2964.25</td>\n",
       "      <td>39610.90</td>\n",
       "      <td>10133.0</td>\n",
       "      <td>1325.10</td>\n",
       "      <td>15983.79</td>\n",
       "      <td>9857.0</td>\n",
       "      <td>2663.65</td>\n",
       "      <td>31443.83</td>\n",
       "      <td>193156.090234</td>\n",
       "      <td>3830.40</td>\n",
       "      <td>880791.88</td>\n",
       "      <td>191317.460620</td>\n",
       "      <td>1747.20</td>\n",
       "      <td>397940.44</td>\n",
       "      <td>168076.253519</td>\n",
       "      <td>3603.60</td>\n",
       "      <td>721047.06</td>\n",
       "      <td>9934.0</td>\n",
       "      <td>4053.43</td>\n",
       "      <td>48508.68</td>\n",
       "      <td>182658.025982</td>\n",
       "      <td>4121.17</td>\n",
       "      <td>903642.93</td>\n",
       "      <td>10402.0</td>\n",
       "      <td>983.55</td>\n",
       "      <td>12180.80</td>\n",
       "      <td>4.326031e+05</td>\n",
       "      <td>2830.23</td>\n",
       "      <td>1596305.29</td>\n",
       "    </tr>\n",
       "    <tr>\n",
       "      <th>2021-12-31</th>\n",
       "      <td>25098</td>\n",
       "      <td>10500.0</td>\n",
       "      <td>3257.76</td>\n",
       "      <td>38047.20</td>\n",
       "      <td>10590.0</td>\n",
       "      <td>3390.94</td>\n",
       "      <td>40055.80</td>\n",
       "      <td>11247.0</td>\n",
       "      <td>1432.75</td>\n",
       "      <td>17888.72</td>\n",
       "      <td>11037.0</td>\n",
       "      <td>3425.39</td>\n",
       "      <td>41973.69</td>\n",
       "      <td>11548.0</td>\n",
       "      <td>1432.78</td>\n",
       "      <td>18349.34</td>\n",
       "      <td>11153.0</td>\n",
       "      <td>2921.33</td>\n",
       "      <td>36117.57</td>\n",
       "      <td>192572.641450</td>\n",
       "      <td>4113.12</td>\n",
       "      <td>878131.27</td>\n",
       "      <td>195359.902123</td>\n",
       "      <td>1876.16</td>\n",
       "      <td>406348.74</td>\n",
       "      <td>177977.302213</td>\n",
       "      <td>3869.58</td>\n",
       "      <td>763522.61</td>\n",
       "      <td>10849.0</td>\n",
       "      <td>4410.78</td>\n",
       "      <td>53051.61</td>\n",
       "      <td>185320.884340</td>\n",
       "      <td>4482.94</td>\n",
       "      <td>921044.87</td>\n",
       "      <td>11234.0</td>\n",
       "      <td>1417.85</td>\n",
       "      <td>17629.97</td>\n",
       "      <td>7.981801e+05</td>\n",
       "      <td>3328.38</td>\n",
       "      <td>2945284.44</td>\n",
       "    </tr>\n",
       "    <tr>\n",
       "      <th>2022-12-31</th>\n",
       "      <td>23863</td>\n",
       "      <td>11406.0</td>\n",
       "      <td>3187.87</td>\n",
       "      <td>42975.77</td>\n",
       "      <td>10716.0</td>\n",
       "      <td>3350.07</td>\n",
       "      <td>42683.28</td>\n",
       "      <td>10305.0</td>\n",
       "      <td>1355.62</td>\n",
       "      <td>16591.05</td>\n",
       "      <td>10287.0</td>\n",
       "      <td>3265.33</td>\n",
       "      <td>39801.94</td>\n",
       "      <td>10659.0</td>\n",
       "      <td>1576.89</td>\n",
       "      <td>19884.27</td>\n",
       "      <td>11255.0</td>\n",
       "      <td>2741.04</td>\n",
       "      <td>36466.20</td>\n",
       "      <td>197795.251772</td>\n",
       "      <td>3857.76</td>\n",
       "      <td>901946.37</td>\n",
       "      <td>206482.261291</td>\n",
       "      <td>1759.68</td>\n",
       "      <td>429483.14</td>\n",
       "      <td>186559.034767</td>\n",
       "      <td>3629.34</td>\n",
       "      <td>800338.16</td>\n",
       "      <td>10703.0</td>\n",
       "      <td>4278.45</td>\n",
       "      <td>54715.02</td>\n",
       "      <td>197203.206043</td>\n",
       "      <td>4184.74</td>\n",
       "      <td>980099.99</td>\n",
       "      <td>10543.0</td>\n",
       "      <td>1976.42</td>\n",
       "      <td>24718.95</td>\n",
       "      <td>1.017928e+06</td>\n",
       "      <td>3121.74</td>\n",
       "      <td>3756155.99</td>\n",
       "    </tr>\n",
       "    <tr>\n",
       "      <th>2023-12-31</th>\n",
       "      <td>18664</td>\n",
       "      <td>10280.0</td>\n",
       "      <td>3181.83</td>\n",
       "      <td>41255.60</td>\n",
       "      <td>10324.0</td>\n",
       "      <td>3184.02</td>\n",
       "      <td>41192.76</td>\n",
       "      <td>10471.0</td>\n",
       "      <td>1342.13</td>\n",
       "      <td>17616.04</td>\n",
       "      <td>10348.0</td>\n",
       "      <td>3194.73</td>\n",
       "      <td>41520.69</td>\n",
       "      <td>10072.0</td>\n",
       "      <td>1506.23</td>\n",
       "      <td>19047.16</td>\n",
       "      <td>9715.0</td>\n",
       "      <td>2585.52</td>\n",
       "      <td>31476.60</td>\n",
       "      <td>166929.775729</td>\n",
       "      <td>3638.88</td>\n",
       "      <td>761199.82</td>\n",
       "      <td>161228.277070</td>\n",
       "      <td>1657.76</td>\n",
       "      <td>335354.77</td>\n",
       "      <td>158099.435880</td>\n",
       "      <td>3419.13</td>\n",
       "      <td>678246.66</td>\n",
       "      <td>10222.0</td>\n",
       "      <td>4122.68</td>\n",
       "      <td>52806.99</td>\n",
       "      <td>169095.235253</td>\n",
       "      <td>3956.12</td>\n",
       "      <td>840403.31</td>\n",
       "      <td>10071.0</td>\n",
       "      <td>2036.08</td>\n",
       "      <td>25667.40</td>\n",
       "      <td>1.144609e+06</td>\n",
       "      <td>2944.62</td>\n",
       "      <td>4223607.13</td>\n",
       "    </tr>\n",
       "  </tbody>\n",
       "</table>\n",
       "</div>"
      ],
      "text/plain": [
       "            week_number   prod_0  prod_0_unit_price  prod_0_profit   prod_1  \\\n",
       "date                                                                          \n",
       "2020-12-31        24588  11112.0            3019.87       39955.20  10714.0   \n",
       "2021-12-31        25098  10500.0            3257.76       38047.20  10590.0   \n",
       "2022-12-31        23863  11406.0            3187.87       42975.77  10716.0   \n",
       "2023-12-31        18664  10280.0            3181.83       41255.60  10324.0   \n",
       "\n",
       "            prod_1_unit_price  prod_1_profit   prod_2  prod_2_unit_price  \\\n",
       "date                                                                       \n",
       "2020-12-31            2903.00       37010.02   9822.0            1212.07   \n",
       "2021-12-31            3390.94       40055.80  11247.0            1432.75   \n",
       "2022-12-31            3350.07       42683.28  10305.0            1355.62   \n",
       "2023-12-31            3184.02       41192.76  10471.0            1342.13   \n",
       "\n",
       "            prod_2_profit   prod_3  prod_3_unit_price  prod_3_profit   prod_4  \\\n",
       "date                                                                            \n",
       "2020-12-31       14218.39  11158.0            2964.25       39610.90  10133.0   \n",
       "2021-12-31       17888.72  11037.0            3425.39       41973.69  11548.0   \n",
       "2022-12-31       16591.05  10287.0            3265.33       39801.94  10659.0   \n",
       "2023-12-31       17616.04  10348.0            3194.73       41520.69  10072.0   \n",
       "\n",
       "            prod_4_unit_price  prod_4_profit   prod_7  prod_7_unit_price  \\\n",
       "date                                                                       \n",
       "2020-12-31            1325.10       15983.79   9857.0            2663.65   \n",
       "2021-12-31            1432.78       18349.34  11153.0            2921.33   \n",
       "2022-12-31            1576.89       19884.27  11255.0            2741.04   \n",
       "2023-12-31            1506.23       19047.16   9715.0            2585.52   \n",
       "\n",
       "            prod_7_profit         prod_8  prod_8_unit_price  prod_8_profit  \\\n",
       "date                                                                         \n",
       "2020-12-31       31443.83  193156.090234            3830.40      880791.88   \n",
       "2021-12-31       36117.57  192572.641450            4113.12      878131.27   \n",
       "2022-12-31       36466.20  197795.251772            3857.76      901946.37   \n",
       "2023-12-31       31476.60  166929.775729            3638.88      761199.82   \n",
       "\n",
       "                   prod_9  prod_9_unit_price  prod_9_profit        prod_11  \\\n",
       "date                                                                         \n",
       "2020-12-31  191317.460620            1747.20      397940.44  168076.253519   \n",
       "2021-12-31  195359.902123            1876.16      406348.74  177977.302213   \n",
       "2022-12-31  206482.261291            1759.68      429483.14  186559.034767   \n",
       "2023-12-31  161228.277070            1657.76      335354.77  158099.435880   \n",
       "\n",
       "            prod_11_unit_price  prod_11_profit   prod_5  prod_5_unit_price  \\\n",
       "date                                                                         \n",
       "2020-12-31             3603.60       721047.06   9934.0            4053.43   \n",
       "2021-12-31             3869.58       763522.61  10849.0            4410.78   \n",
       "2022-12-31             3629.34       800338.16  10703.0            4278.45   \n",
       "2023-12-31             3419.13       678246.66  10222.0            4122.68   \n",
       "\n",
       "            prod_5_profit        prod_10  prod_10_unit_price  prod_10_profit  \\\n",
       "date                                                                           \n",
       "2020-12-31       48508.68  182658.025982             4121.17       903642.93   \n",
       "2021-12-31       53051.61  185320.884340             4482.94       921044.87   \n",
       "2022-12-31       54715.02  197203.206043             4184.74       980099.99   \n",
       "2023-12-31       52806.99  169095.235253             3956.12       840403.31   \n",
       "\n",
       "             prod_6  prod_6_unit_price  prod_6_profit       prod_15  \\\n",
       "date                                                                  \n",
       "2020-12-31  10402.0             983.55       12180.80  4.326031e+05   \n",
       "2021-12-31  11234.0            1417.85       17629.97  7.981801e+05   \n",
       "2022-12-31  10543.0            1976.42       24718.95  1.017928e+06   \n",
       "2023-12-31  10071.0            2036.08       25667.40  1.144609e+06   \n",
       "\n",
       "            prod_15_unit_price  prod_15_profit  \n",
       "date                                            \n",
       "2020-12-31             2830.23      1596305.29  \n",
       "2021-12-31             3328.38      2945284.44  \n",
       "2022-12-31             3121.74      3756155.99  \n",
       "2023-12-31             2944.62      4223607.13  "
      ]
     },
     "execution_count": 105,
     "metadata": {},
     "output_type": "execute_result"
    }
   ],
   "source": [
    "df_concat.groupby(pd.Grouper(key='date', freq='Y')).sum()"
   ]
  },
  {
   "cell_type": "code",
   "execution_count": null,
   "id": "8b81b037-0ff6-402c-a53a-4f356ca66181",
   "metadata": {},
   "outputs": [],
   "source": [
    "# sum of products per month\n",
    "group_month = df_concat.groupby(df['date'].dt.isocalendar().week)['prod_4'].sum()\n",
    "group_month"
   ]
  },
  {
   "cell_type": "code",
   "execution_count": null,
   "id": "d83235d4-b5be-429b-9d93-8526c4204121",
   "metadata": {},
   "outputs": [],
   "source": [
    "df_teste = df_concat.groupby(df_concat['date'].dt.isocalendar().week,as_index=True).sum()"
   ]
  },
  {
   "cell_type": "code",
   "execution_count": null,
   "id": "ccdc6492-e269-4e63-892a-8fd376d2a282",
   "metadata": {},
   "outputs": [],
   "source": [
    "df_years = df_concat.groupby(df_concat['date'].dt.year,as_index=True).sum()"
   ]
  },
  {
   "cell_type": "code",
   "execution_count": null,
   "id": "6dd3dd6d-f96a-4e78-a108-3aa2c054a09a",
   "metadata": {},
   "outputs": [],
   "source": [
    "df_years.head(20)"
   ]
  },
  {
   "cell_type": "code",
   "execution_count": null,
   "id": "b369e0d8-d759-4e49-a673-953af126003a",
   "metadata": {},
   "outputs": [],
   "source": [
    "years_list = list(df_years.index)"
   ]
  },
  {
   "cell_type": "code",
   "execution_count": null,
   "id": "191a3d66-c295-4585-bca7-98dbc2c54fbc",
   "metadata": {},
   "outputs": [],
   "source": [
    "years_list"
   ]
  },
  {
   "cell_type": "code",
   "execution_count": null,
   "id": "7245ab88-b6e8-4190-8748-e2ecec470970",
   "metadata": {},
   "outputs": [],
   "source": [
    "df_year = pd.DataFrame(df_concat['date'].dt.year)\n",
    "df_month = pd.DataFrame(df_concat['date'].dt.month)\n",
    "df_week = pd.DataFrame(df_concat['date'].dt.isocalendar().week)"
   ]
  },
  {
   "cell_type": "code",
   "execution_count": null,
   "id": "b8b36427-e8b5-45cb-b196-492dd95e8980",
   "metadata": {},
   "outputs": [],
   "source": [
    "df_year"
   ]
  },
  {
   "cell_type": "code",
   "execution_count": null,
   "id": "9a292aef-569f-4eee-9589-3565a9aecc7e",
   "metadata": {},
   "outputs": [],
   "source": [
    "\n"
   ]
  },
  {
   "cell_type": "code",
   "execution_count": null,
   "id": "b633340c-cc89-4ea1-9108-226a949fdc7a",
   "metadata": {},
   "outputs": [],
   "source": [
    "# selecting months and years\n",
    "sales_month = df[(df['date'].dt.month == 9) & (df['date'].dt.year == 2021)]\n",
    "sales_month\n"
   ]
  },
  {
   "cell_type": "markdown",
   "id": "5da53dfc-62fc-4da0-91ed-73a0c4bb3f1b",
   "metadata": {
    "jp-MarkdownHeadingCollapsed": true,
    "tags": []
   },
   "source": [
    "## Part IV - Creating Data Bases"
   ]
  },
  {
   "cell_type": "code",
   "execution_count": null,
   "id": "57922df8-cc54-4770-8938-ee2f2a5433df",
   "metadata": {},
   "outputs": [],
   "source": []
  }
 ],
 "metadata": {
  "kernelspec": {
   "display_name": "Python 3 (ipykernel)",
   "language": "python",
   "name": "python3"
  },
  "language_info": {
   "codemirror_mode": {
    "name": "ipython",
    "version": 3
   },
   "file_extension": ".py",
   "mimetype": "text/x-python",
   "name": "python",
   "nbconvert_exporter": "python",
   "pygments_lexer": "ipython3",
   "version": "3.9.12"
  },
  "vscode": {
   "interpreter": {
    "hash": "6e3977c52f5249dbc2a33b897faad1e0916758085298811edbd14ed6ad707d81"
   }
  }
 },
 "nbformat": 4,
 "nbformat_minor": 5
}
