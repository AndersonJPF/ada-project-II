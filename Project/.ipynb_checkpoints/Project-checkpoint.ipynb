{
 "cells": [
  {
   "cell_type": "markdown",
   "id": "cb20aa51-9534-42dd-bc72-a94f5980e538",
   "metadata": {},
   "source": [
    "<center><strong><h1>\n",
    "    ADA FINAL PROJECT II </h1></strong></center>"
   ]
  },
  {
   "cell_type": "markdown",
   "id": "8d4c99a6-81bf-4811-ac1c-fb1368735c68",
   "metadata": {
    "tags": []
   },
   "source": [
    "<center>\n",
    "<img src=\"https://i.postimg.cc/G3vX5dvW/new-product-sales-turn-innovation-into-growth-4x.png\" width=\"600\" alt=\"cognitiveclass.ai logo\"  /></center>"
   ]
  },
  {
   "cell_type": "markdown",
   "id": "755112e1-2bca-4eec-9592-7a375c38a814",
   "metadata": {
    "tags": []
   },
   "source": [
    "# Project Code"
   ]
  },
  {
   "cell_type": "markdown",
   "id": "93be0b67-6cfa-47a8-b9fb-7df9709932c7",
   "metadata": {
    "jp-MarkdownHeadingCollapsed": true,
    "tags": []
   },
   "source": [
    "## Ada Project Info"
   ]
  },
  {
   "cell_type": "markdown",
   "id": "d6fd2ecc-5067-4b84-a005-308c2e9a4c07",
   "metadata": {
    "tags": []
   },
   "source": [
    "Repository for the essential files for the final project of the Programming Techniques course - Ada tech. The practical objective of this project is to develop a system for storing, maintaining and manipulating databases using pandas.\n",
    "\n",
    "In this work, we want to create a system for organizing product sales data in a company. There are already two services that implement different blocks of a complete project.\n",
    "Repository for the essential files for the final project of the Programming Techniques course - Ada tech. The practical objective of this project is to develop a system for storing, maintaining and manipulating databases using pandas.\n",
    "\n",
    "In this work, we want to create a system for organizing product sales data in a company. There are already two services that implement different blocks of a complete project.\n",
    "\n",
    "### Part 1 - Data Acquisition\n",
    "Initially, a web-server created in Javascript will serve as an entry point for the data, simulating the weekly acquisition of all products sold by the company. To run the server, you need to install [NodeJS](https://nodejs.org/en/). With the repository folder already cloned, you must use the following commands to install the packages.\n",
    "\n",
    "`npm init`\n",
    "`npm install`\n",
    "\n",
    "Then just run the `node web-server.js` command. To request the data in JSON format, just use a GET request to localhost:3000/api/ep1\n",
    "\n",
    "### Part 2 - Data Storage and Management\n",
    "\n",
    "This is the necessary stage of the project. The student must be able to create a system that can update tables in the face of new data. Also, the formatting of dataframes must be in accordance with the project's specifications, so that communication with the dashboard can be stablished immediately and correctly, without any further adaptation. \n",
    "\n",
    "### Part 3 - Data visualization\n",
    "\n",
    "Last step of the project pipeline. Using the aforementioned tables, this script generates a dashboard containing essential info for data visualization. The script uses the `streamlit` framework. In order to run locally, the student should install the package (either using `pip install streamlit` or `conda install streamlit`). To run the application, just type `streamlit run app.py` and access localhost:8501 to view the dashboard. If the second part of the project is done correctly, the dashboard should work like the image below.\n",
    "\n",
    "![example](https://github.com/mdrs-thiago/ada_project/blob/492aafd0f66fdb37fec04a4e72c085ca7aba87f1/ada_project_dashboard.png)"
   ]
  },
  {
   "cell_type": "markdown",
   "id": "8d809c6b-5d99-4a73-b3bf-24e6d8a1b2e0",
   "metadata": {
    "jp-MarkdownHeadingCollapsed": true,
    "tags": []
   },
   "source": [
    "## Imports"
   ]
  },
  {
   "cell_type": "code",
   "execution_count": 1,
   "id": "15185743-2122-4397-ab87-604b918a3839",
   "metadata": {},
   "outputs": [],
   "source": [
    "import pandas as pd\n",
    "import numpy as np\n",
    "import requests\n",
    "import datetime \n",
    "import random\n",
    "\n",
    "import matplotlib.pyplot as plt\n",
    "import seaborn as sns\n",
    "%matplotlib inline \n",
    "\n",
    "import warnings\n",
    "#import unicodedata\n",
    "#import math\n",
    "\n",
    "\n",
    "#import time"
   ]
  },
  {
   "cell_type": "code",
   "execution_count": 2,
   "id": "c47fbed0-375d-4135-b25a-5cb40f654616",
   "metadata": {},
   "outputs": [],
   "source": [
    "# show all Columns\n",
    "pd.set_option(\"display.max_columns\", None)\n",
    "\n",
    "#  warnings package to suppress warnings\n",
    "warnings.filterwarnings('ignore')\n",
    "\n",
    "# Display a pandas DataFrame with a given format using:\n",
    "pd.options.display.float_format = '{:.2f}'.format\n",
    "\n",
    "sns.set_style('dark')"
   ]
  },
  {
   "cell_type": "markdown",
   "id": "56c7dc1a-d6f2-4a68-b72a-6d2b74df9ff8",
   "metadata": {
    "jp-MarkdownHeadingCollapsed": true,
    "tags": []
   },
   "source": [
    "## Main Fuctions"
   ]
  },
  {
   "cell_type": "code",
   "execution_count": 3,
   "id": "d2866d95-fefc-4fb5-b44f-d50cede0a189",
   "metadata": {},
   "outputs": [],
   "source": [
    "dict_price = {}\n",
    "df_concat = pd.DataFrame()"
   ]
  },
  {
   "cell_type": "code",
   "execution_count": 4,
   "id": "2ddf7518-afe2-49aa-b6fc-d2f3e05a410f",
   "metadata": {},
   "outputs": [],
   "source": [
    "# Function to request the api created\n",
    "def request_api (x:str):\n",
    "    '''\n",
    "    x: str <- link da API\n",
    "    '''\n",
    "    exemple = requests.get(x)\n",
    "    dados = exemple.json()\n",
    "    df = pd.json_normalize(dados)\n",
    "    df.iloc[:,2:] = df.iloc[:,2:].abs()\n",
    "    df['date'] = df['date'].apply(lambda x: datetime.datetime.fromtimestamp(x))\n",
    "    \n",
    "    return df"
   ]
  },
  {
   "cell_type": "code",
   "execution_count": 5,
   "id": "ddc68c06-ae86-4aaf-a238-2a22f19e35b2",
   "metadata": {},
   "outputs": [],
   "source": [
    "# getting a list of generated products (columns):\n",
    "def prod_in_columns():\n",
    "    global products\n",
    "    products = df_api.columns\n",
    "    products = products[2:]\n",
    "    return products\n",
    "\n",
    "# transforming prod_0 – prod_7 into integer, because quantity of products purchased is in units:\n",
    "def integer_prod():\n",
    "    for i in products:\n",
    "        for j in range(8):\n",
    "            if i == f'prod_{j}':\n",
    "                df_api[i] = df_api[i].apply(np.floor)\n",
    "    return\n",
    "\n",
    "# creating random prices for items for the first time\n",
    "def price_products():    \n",
    "    for i in products:\n",
    "        if i not in dict_price.keys():\n",
    "            # dict_price{   Prod:   [ Preço(t),             Preço(t+1),  M(t-1),     M(t)} \n",
    "            #                           [0]                     [1]        [2]       [3]      \n",
    "            dict_price[i] = [round(random.uniform(5,50),2),   None,     None,     None]            \n",
    "            dict_price[i][3] = df_api[i].mean()\n",
    "            dict_price[i][1] = dict_price[i][0] \n",
    "        else:\n",
    "            dict_price[i][0] = dict_price[i][1]\n",
    "            dict_price[i][2] = dict_price[i][3]\n",
    "            dict_price[i][3] = df_api[i].mean()\n",
    "            if dict_price[i][2] != 0:\n",
    "                v = ((dict_price[i][3] - dict_price[i][2]) / dict_price[i][2])\n",
    "            else:\n",
    "                v = 0            \n",
    "            fv = 0.5 + (1 / (1 + np.exp(-v)))\n",
    "            pt = dict_price[i][0]\n",
    "            dict_price[i][1] = fv * pt            \n",
    "    return\n",
    "\n",
    "# apply the unit price created into the main DataFrame\n",
    "def unit_price():\n",
    "    for i in products:\n",
    "        indice_column = df_api.columns.get_loc(i)\n",
    "        indice_column += 1\n",
    "        df_api.insert(indice_column,f'{i}_unit_price',dict_price[i][0])\n",
    "    return\n",
    "\n",
    "# creating a column with profits (quantity x unit price)\n",
    "def prod_profit():\n",
    "    for i in products:\n",
    "        indice_column = df_api.columns.get_loc(i)\n",
    "        indice_column += 2\n",
    "        df_api.insert(indice_column,f'{i}_revenue',(df_api[i]*df_api[f'{i}_unit_price']))\n",
    "        df_api[f'{i}_revenue'] = df_api[f'{i}_revenue'].apply(lambda x: round(x,2))\n",
    "    return\n",
    "\n",
    "# concatenating the dataframes generated from the API\n",
    "def concat_api():\n",
    "    global df_concat\n",
    "    df_concat = pd.concat([df_concat, df_api], axis=0, join='outer')\n",
    "    df_concat= df_concat.reset_index(drop=True)\n",
    "    return"
   ]
  },
  {
   "cell_type": "code",
   "execution_count": 6,
   "id": "ef0a19e3-6b31-4b0b-8ccd-5ac7c13fd333",
   "metadata": {},
   "outputs": [],
   "source": [
    "# Creating Data Bases\n",
    "\n",
    "def database_all_sells():\n",
    "    global df_all_sells\n",
    "    \n",
    "    df_id_date = df_concat.iloc[:,:2]\n",
    "    df_all_sells = pd.concat([df_id_date, df_concat.iloc[:,2::3]], axis=1, join='outer')    \n",
    "    \n",
    "    return df_all_sells.to_csv('df_all_sells.csv')\n",
    "\n",
    "def database_monthly_sells():\n",
    "    global df_monthly_sells, df_prod\n",
    "    \n",
    "    df_id_date = df_concat.iloc[:,:2]\n",
    "    df_prod = pd.concat([df_id_date, df_concat.iloc[:,2::3]], axis=1, join='outer')\n",
    "    df_monthly_sells = df_prod.groupby(pd.Grouper(key='date', freq='M')).sum()    \n",
    "    \n",
    "    return df_monthly_sells.to_csv(\"df_monthly_sells.csv\")\n",
    "\n",
    "def database_weekly_price():\n",
    "    global df_weekly_price \n",
    "    \n",
    "    df_id_date = df_concat.iloc[:,:2]\n",
    "    df_prod_price = pd.concat([df_id_date, df_concat.iloc[:,3::3]], axis=1, join='outer')\n",
    "    df_prod_price.insert(0,'Year', df_prod_price['date'].dt.isocalendar().year)\n",
    "    df_prod_price.insert(1,'Week', df_prod_price['date'].dt.isocalendar().week)\n",
    "    df_weekly_price = df_prod_price.groupby(pd.Grouper(key='date', freq='W')).max()\n",
    "    df_weekly_price = df_weekly_price.drop(columns=['id'])\n",
    "    \n",
    "    return df_weekly_price.to_csv(\"df_weekly_price.csv\")\n",
    "\n",
    "def database_monthly_revenue():\n",
    "    global df_monthly_revenue \n",
    "    \n",
    "    df_id_date = df_concat.iloc[:,:2]\n",
    "    df_prod_revenue = pd.concat([df_id_date, df_concat.iloc[:,4::3]], axis=1, join='outer')\n",
    "    df_monthly_revenue = df_prod_revenue.groupby(pd.Grouper(key='date', freq='M')).sum()\n",
    "    df_monthly_revenue.columns = df_prod.columns[2:]\n",
    "    df_monthly_revenue['balance'] = df_monthly_revenue.iloc[:,:].sum(axis = 1)\n",
    "        \n",
    "    return df_monthly_revenue.to_csv(\"df_month_revenue.csv\")\n",
    "\n",
    "def database_consolidate():\n",
    "    global  df_consolidate   \n",
    "    \n",
    "    df_consolidate = df_monthly_revenue.T\n",
    "    df_consolidate.drop(['balance'],inplace=True)\n",
    "    df_consolidate['balance'] = df_consolidate.iloc[:,:].sum(axis = 1)\n",
    "    df_consolidate.index.name = 'product'\n",
    "\n",
    "    return df_consolidate.to_csv(\"df_consolidate.csv\")"
   ]
  },
  {
   "cell_type": "markdown",
   "id": "6fd716b6-d509-493a-ad67-a6e801716f7c",
   "metadata": {
    "jp-MarkdownHeadingCollapsed": true,
    "tags": []
   },
   "source": [
    "## Running the Code\n"
   ]
  },
  {
   "cell_type": "code",
   "execution_count": 7,
   "id": "e43239c1-53de-4da0-9b58-b4e1e8bddb25",
   "metadata": {},
   "outputs": [],
   "source": [
    "# IMPORTANT: Use df_api as variable\n",
    "for i in range(100):\n",
    "    df_api = request_api('http://localhost:3000/api/ep1')\n",
    "    prod_in_columns()\n",
    "    integer_prod()\n",
    "    price_products()\n",
    "    unit_price()\n",
    "    prod_profit()\n",
    "    concat_api()\n",
    "    \n",
    "database_all_sells()\n",
    "database_monthly_sells()\n",
    "database_weekly_price()\n",
    "database_monthly_revenue()\n",
    "database_consolidate()"
   ]
  },
  {
   "cell_type": "markdown",
   "id": "c1d5d636-f5bf-4857-94bb-cc36affeeefa",
   "metadata": {
    "jp-MarkdownHeadingCollapsed": true,
    "tags": []
   },
   "source": [
    "## Workflow"
   ]
  },
  {
   "cell_type": "markdown",
   "id": "5b7fa3c0-74d3-48ce-ae2e-effd5d817df5",
   "metadata": {
    "tags": []
   },
   "source": [
    "### Part I - Creating DataFrame and Data Wrangling"
   ]
  },
  {
   "cell_type": "code",
   "execution_count": 53,
   "id": "bcaf4f75-9cef-4684-95e0-deb38b930fd5",
   "metadata": {},
   "outputs": [],
   "source": [
    "# creating table and putting a week list:\n",
    "df_api = request_api('http://localhost:3000/api/ep1')"
   ]
  },
  {
   "cell_type": "code",
   "execution_count": 11,
   "id": "75c22079-7c2b-4c0b-ba9e-8ad161234865",
   "metadata": {},
   "outputs": [
    {
     "data": {
      "text/plain": [
       "(22, 15)"
      ]
     },
     "execution_count": 11,
     "metadata": {},
     "output_type": "execute_result"
    }
   ],
   "source": [
    "df_api.shape"
   ]
  },
  {
   "cell_type": "code",
   "execution_count": 55,
   "id": "bc930fd9-1f4b-446b-b5e7-c4db4c62e48f",
   "metadata": {},
   "outputs": [
    {
     "data": {
      "text/html": [
       "<div>\n",
       "<style scoped>\n",
       "    .dataframe tbody tr th:only-of-type {\n",
       "        vertical-align: middle;\n",
       "    }\n",
       "\n",
       "    .dataframe tbody tr th {\n",
       "        vertical-align: top;\n",
       "    }\n",
       "\n",
       "    .dataframe thead th {\n",
       "        text-align: right;\n",
       "    }\n",
       "</style>\n",
       "<table border=\"1\" class=\"dataframe\">\n",
       "  <thead>\n",
       "    <tr style=\"text-align: right;\">\n",
       "      <th></th>\n",
       "      <th>id</th>\n",
       "      <th>date</th>\n",
       "      <th>prod_2</th>\n",
       "      <th>prod_3</th>\n",
       "      <th>prod_4</th>\n",
       "      <th>prod_6</th>\n",
       "      <th>prod_7</th>\n",
       "      <th>prod_8</th>\n",
       "      <th>prod_11</th>\n",
       "      <th>prod_15</th>\n",
       "      <th>prod_0</th>\n",
       "      <th>prod_9</th>\n",
       "      <th>prod_5</th>\n",
       "      <th>prod_1</th>\n",
       "      <th>prod_10</th>\n",
       "    </tr>\n",
       "  </thead>\n",
       "  <tbody>\n",
       "    <tr>\n",
       "      <th>0</th>\n",
       "      <td>laiq53j4313qb9akak</td>\n",
       "      <td>2020-12-02 19:36:30.519956</td>\n",
       "      <td>10.24</td>\n",
       "      <td>18.01</td>\n",
       "      <td>32.81</td>\n",
       "      <td>23.63</td>\n",
       "      <td>7.03</td>\n",
       "      <td>170.11</td>\n",
       "      <td>235.20</td>\n",
       "      <td>161.38</td>\n",
       "      <td>NaN</td>\n",
       "      <td>NaN</td>\n",
       "      <td>NaN</td>\n",
       "      <td>NaN</td>\n",
       "      <td>NaN</td>\n",
       "    </tr>\n",
       "    <tr>\n",
       "      <th>1</th>\n",
       "      <td>laiq53j4vq2g55cvieh</td>\n",
       "      <td>2020-12-02 22:04:27.071453</td>\n",
       "      <td>37.98</td>\n",
       "      <td>35.51</td>\n",
       "      <td>37.76</td>\n",
       "      <td>20.23</td>\n",
       "      <td>NaN</td>\n",
       "      <td>33.36</td>\n",
       "      <td>NaN</td>\n",
       "      <td>618.45</td>\n",
       "      <td>30.99</td>\n",
       "      <td>8.35</td>\n",
       "      <td>NaN</td>\n",
       "      <td>NaN</td>\n",
       "      <td>NaN</td>\n",
       "    </tr>\n",
       "    <tr>\n",
       "      <th>2</th>\n",
       "      <td>laiq53j4f8gmilhaoul</td>\n",
       "      <td>2020-12-02 19:38:45.328814</td>\n",
       "      <td>44.92</td>\n",
       "      <td>11.04</td>\n",
       "      <td>NaN</td>\n",
       "      <td>25.08</td>\n",
       "      <td>39.83</td>\n",
       "      <td>320.93</td>\n",
       "      <td>NaN</td>\n",
       "      <td>640.96</td>\n",
       "      <td>NaN</td>\n",
       "      <td>617.33</td>\n",
       "      <td>32.05</td>\n",
       "      <td>NaN</td>\n",
       "      <td>NaN</td>\n",
       "    </tr>\n",
       "    <tr>\n",
       "      <th>3</th>\n",
       "      <td>laiq53j42vf4f9x1q</td>\n",
       "      <td>2020-12-03 03:40:35.155403</td>\n",
       "      <td>NaN</td>\n",
       "      <td>NaN</td>\n",
       "      <td>15.54</td>\n",
       "      <td>NaN</td>\n",
       "      <td>48.18</td>\n",
       "      <td>NaN</td>\n",
       "      <td>494.92</td>\n",
       "      <td>464.62</td>\n",
       "      <td>15.89</td>\n",
       "      <td>177.91</td>\n",
       "      <td>28.10</td>\n",
       "      <td>3.16</td>\n",
       "      <td>723.16</td>\n",
       "    </tr>\n",
       "    <tr>\n",
       "      <th>4</th>\n",
       "      <td>laiq53j4n9ctvks4qs</td>\n",
       "      <td>2020-12-02 21:03:13.936007</td>\n",
       "      <td>NaN</td>\n",
       "      <td>NaN</td>\n",
       "      <td>38.60</td>\n",
       "      <td>NaN</td>\n",
       "      <td>NaN</td>\n",
       "      <td>NaN</td>\n",
       "      <td>448.59</td>\n",
       "      <td>196.91</td>\n",
       "      <td>4.91</td>\n",
       "      <td>264.74</td>\n",
       "      <td>NaN</td>\n",
       "      <td>NaN</td>\n",
       "      <td>NaN</td>\n",
       "    </tr>\n",
       "  </tbody>\n",
       "</table>\n",
       "</div>"
      ],
      "text/plain": [
       "                    id                       date  prod_2  prod_3  prod_4  \\\n",
       "0   laiq53j4313qb9akak 2020-12-02 19:36:30.519956   10.24   18.01   32.81   \n",
       "1  laiq53j4vq2g55cvieh 2020-12-02 22:04:27.071453   37.98   35.51   37.76   \n",
       "2  laiq53j4f8gmilhaoul 2020-12-02 19:38:45.328814   44.92   11.04     NaN   \n",
       "3    laiq53j42vf4f9x1q 2020-12-03 03:40:35.155403     NaN     NaN   15.54   \n",
       "4   laiq53j4n9ctvks4qs 2020-12-02 21:03:13.936007     NaN     NaN   38.60   \n",
       "\n",
       "   prod_6  prod_7  prod_8  prod_11  prod_15  prod_0  prod_9  prod_5  prod_1  \\\n",
       "0   23.63    7.03  170.11   235.20   161.38     NaN     NaN     NaN     NaN   \n",
       "1   20.23     NaN   33.36      NaN   618.45   30.99    8.35     NaN     NaN   \n",
       "2   25.08   39.83  320.93      NaN   640.96     NaN  617.33   32.05     NaN   \n",
       "3     NaN   48.18     NaN   494.92   464.62   15.89  177.91   28.10    3.16   \n",
       "4     NaN     NaN     NaN   448.59   196.91    4.91  264.74     NaN     NaN   \n",
       "\n",
       "   prod_10  \n",
       "0      NaN  \n",
       "1      NaN  \n",
       "2      NaN  \n",
       "3   723.16  \n",
       "4      NaN  "
      ]
     },
     "execution_count": 55,
     "metadata": {},
     "output_type": "execute_result"
    }
   ],
   "source": [
    "df_api.head()"
   ]
  },
  {
   "cell_type": "code",
   "execution_count": null,
   "id": "48edc402-b59d-4297-9e9d-947efb5fc2f0",
   "metadata": {},
   "outputs": [],
   "source": [
    "# getting a list of generated products (columns):\n",
    "def prod_in_columns():\n",
    "    global products\n",
    "    products = df_api.columns\n",
    "    products = products[2:]\n",
    "    return products"
   ]
  },
  {
   "cell_type": "code",
   "execution_count": null,
   "id": "485f718b-5955-4952-b5f4-847ea7924a50",
   "metadata": {},
   "outputs": [],
   "source": [
    "prod_in_columns()"
   ]
  },
  {
   "cell_type": "code",
   "execution_count": null,
   "id": "56e1b15a-4528-4cb9-847f-6c6ae34892ef",
   "metadata": {},
   "outputs": [],
   "source": [
    "# transforming prod_0 – prod_7 into integer, because quantity of products purchased is in units:\n",
    "def integer_prod():\n",
    "    for i in products:\n",
    "        for j in range(8):\n",
    "            if i == f'prod_{j}':\n",
    "                df_api[i] = df_api[i].apply(np.floor)\n",
    "    return"
   ]
  },
  {
   "cell_type": "code",
   "execution_count": null,
   "id": "31a2adcb-7b16-47f9-9d52-764fac9935cd",
   "metadata": {},
   "outputs": [],
   "source": [
    "integer_prod()"
   ]
  },
  {
   "cell_type": "code",
   "execution_count": null,
   "id": "f50fc9cb-e619-49a0-97bd-3a0bc2ac5b16",
   "metadata": {},
   "outputs": [],
   "source": [
    "df_api.head()"
   ]
  },
  {
   "cell_type": "code",
   "execution_count": null,
   "id": "17f40853-e5c1-4441-ac0f-c41781fd5f88",
   "metadata": {},
   "outputs": [],
   "source": [
    "# creating random prices for items for the first time\n",
    "def price_products():    \n",
    "    for i in products:\n",
    "        if i not in dict_price.keys():\n",
    "            # dict_price{   Prod:   [ Preço(t),             Preço(t+1),  M(t-1),     M(t),  variação(v)] } \n",
    "            #                           [0]                     [1]        [2]       [3]        [4]\n",
    "            dict_price[i] = [round(random.uniform(10,100),2),   None,     None,     None,      None]            \n",
    "            dict_price[i][3] = df_api[i].mean()\n",
    "            dict_price[i][1] = dict_price[i][0] \n",
    "        else:\n",
    "            dict_price[i][0] = dict_price[i][1]\n",
    "            dict_price[i][2] = dict_price[i][3]\n",
    "            dict_price[i][3] = df_api[i].mean()\n",
    "            v = ((dict_price[i][3] - dict_price[i][2]) / dict_price[i][2])\n",
    "            dict_price[i][4] = v\n",
    "            fv = 0.5 + (1 / (1 + np.exp(-v)))\n",
    "            pt = dict_price[i][0]\n",
    "            dict_price[i][1] = fv * pt            \n",
    "    return"
   ]
  },
  {
   "cell_type": "code",
   "execution_count": null,
   "id": "7b44a79b-4862-4e42-af25-59d7ddf5e913",
   "metadata": {},
   "outputs": [],
   "source": [
    "price_products()"
   ]
  },
  {
   "cell_type": "code",
   "execution_count": null,
   "id": "7e8246b6-b586-4c82-83d6-67c59985a731",
   "metadata": {},
   "outputs": [],
   "source": [
    "dict_price"
   ]
  },
  {
   "cell_type": "code",
   "execution_count": null,
   "id": "3daf43a7-2a1b-4d97-a7d4-b52cbceff008",
   "metadata": {},
   "outputs": [],
   "source": [
    "# apply the unit price created into the DataFrame\n",
    "def unit_price():\n",
    "    for i in dict_price.keys():\n",
    "        indice_column = df_api.columns.get_loc(i)\n",
    "        indice_column += 1\n",
    "        df_api.insert(indice_column,f'{i}_unit_price',dict_price[i][0])\n",
    "    return"
   ]
  },
  {
   "cell_type": "code",
   "execution_count": null,
   "id": "31248bbb-6b94-4408-af9e-27a73e5fab8d",
   "metadata": {},
   "outputs": [],
   "source": [
    "unit_price()"
   ]
  },
  {
   "cell_type": "code",
   "execution_count": null,
   "id": "521fa139-6a1d-49d3-b5c1-8375e094d775",
   "metadata": {},
   "outputs": [],
   "source": [
    " df_api.head()"
   ]
  },
  {
   "cell_type": "code",
   "execution_count": null,
   "id": "f9616165-7d71-4ba5-8088-af190bf9c2b3",
   "metadata": {},
   "outputs": [],
   "source": [
    "# apply the relative variation created into the DataFrame\n",
    "#def relative_var():\n",
    "#   for i in dict_price.keys():\n",
    "#        indice_column = df_api.columns.get_loc(i)\n",
    "#        indice_column += 2\n",
    "#        df_api.insert(indice_column,f'{i}_relative_var',dict_price[i][4])\n",
    "#    return"
   ]
  },
  {
   "cell_type": "code",
   "execution_count": null,
   "id": "7064be02-ada2-4e1e-ae37-4940a5887c7a",
   "metadata": {},
   "outputs": [],
   "source": [
    "#relative_var()"
   ]
  },
  {
   "cell_type": "code",
   "execution_count": null,
   "id": "757aa948-3a0a-4485-80dc-55c6a8325edc",
   "metadata": {},
   "outputs": [],
   "source": [
    "#df_api.head()"
   ]
  },
  {
   "cell_type": "code",
   "execution_count": null,
   "id": "7cef816c-32f6-498c-b40c-b422662608f7",
   "metadata": {},
   "outputs": [],
   "source": [
    "# creating a column with profits (quantity x unit price)\n",
    "def prod_profit():\n",
    "    for i in dict_price.keys():\n",
    "        indice_column = df_api.columns.get_loc(i)\n",
    "        indice_column += 2\n",
    "        df_api.insert(indice_column,f'{i}_revenue',(df_api[i]*df_api[f'{i}_unit_price']))\n",
    "        df_api[f'{i}_revenue'] = df_api[f'{i}_revenue'].apply(lambda x: round(x,2))\n",
    "    return"
   ]
  },
  {
   "cell_type": "code",
   "execution_count": null,
   "id": "1d2ae127-ff9d-4d85-bfab-bf74b972a52f",
   "metadata": {},
   "outputs": [],
   "source": [
    "prod_profit()"
   ]
  },
  {
   "cell_type": "code",
   "execution_count": null,
   "id": "d9404385-a94b-4e54-84c0-942c5afbb283",
   "metadata": {},
   "outputs": [],
   "source": [
    "df_api.tail()"
   ]
  },
  {
   "cell_type": "markdown",
   "id": "546a2edc-d82a-4d54-806b-88ca8af2caeb",
   "metadata": {
    "jp-MarkdownHeadingCollapsed": true,
    "tags": []
   },
   "source": [
    "### Part II - Concatenating DataFrames"
   ]
  },
  {
   "cell_type": "code",
   "execution_count": null,
   "id": "e9874daa-8fac-40b0-98f3-1b2b477e57ce",
   "metadata": {},
   "outputs": [],
   "source": [
    "# concatenando os dataframes gerados a partir da API\n",
    "def concat_api():\n",
    "    global df_concat\n",
    "    df_concat = pd.concat([df_concat, df_api], axis=0, join='outer')\n",
    "    df_concat= df_concat.reset_index(drop=True)\n",
    "    return"
   ]
  },
  {
   "cell_type": "code",
   "execution_count": null,
   "id": "1e22f39d-ab16-4d61-a407-13cbbeded028",
   "metadata": {},
   "outputs": [],
   "source": [
    "concat_api()"
   ]
  },
  {
   "cell_type": "code",
   "execution_count": null,
   "id": "5c582e6c-278a-4556-bf32-04c6b0dcc597",
   "metadata": {},
   "outputs": [],
   "source": [
    "df_concat.tail(5)"
   ]
  },
  {
   "cell_type": "code",
   "execution_count": null,
   "id": "6192c4d6-1248-4c17-a447-4e3fb23f88ed",
   "metadata": {},
   "outputs": [],
   "source": [
    "df_concat['date'] = df_concat['date'].apply(lambda x: datetime.datetime.fromtimestamp(x))"
   ]
  },
  {
   "cell_type": "markdown",
   "id": "a7bda768-833a-4ad9-8649-6b129b1feb3e",
   "metadata": {
    "jp-MarkdownHeadingCollapsed": true,
    "tags": []
   },
   "source": [
    "### Part III -  Creating Data Bases"
   ]
  },
  {
   "cell_type": "markdown",
   "id": "3747b935-006f-4efe-803d-d078ca6ad1ca",
   "metadata": {
    "tags": []
   },
   "source": [
    "#### Separating specific columns from the main DataFrame"
   ]
  },
  {
   "cell_type": "code",
   "execution_count": null,
   "id": "cb9e7dc8-3cf7-4f5a-80f5-c03756cef7ae",
   "metadata": {},
   "outputs": [],
   "source": [
    "df_concat.shape"
   ]
  },
  {
   "cell_type": "code",
   "execution_count": null,
   "id": "52abb0bf-9bd5-45c4-8b8c-5b8ef31fa5cd",
   "metadata": {},
   "outputs": [],
   "source": [
    "df_concat.head()"
   ]
  },
  {
   "cell_type": "markdown",
   "id": "646ae8ef-b672-4e4d-a63b-0f3be88ef163",
   "metadata": {},
   "source": [
    "Creating a DataFrame only with 'id' and 'date'"
   ]
  },
  {
   "cell_type": "code",
   "execution_count": null,
   "id": "5fed2110-5684-4660-9c3e-8056b538d5c1",
   "metadata": {},
   "outputs": [],
   "source": [
    "df_id_date = df_concat.iloc[:,:2]"
   ]
  },
  {
   "cell_type": "code",
   "execution_count": null,
   "id": "de6b357d-a70c-4563-807a-687cfdfb90e4",
   "metadata": {},
   "outputs": [],
   "source": [
    "df_id_date.head()"
   ]
  },
  {
   "cell_type": "markdown",
   "id": "0b0e44a2-acae-4e7a-8442-2a761a7d8dbc",
   "metadata": {},
   "source": [
    "Creating a DataFrame only with product's transaction data"
   ]
  },
  {
   "cell_type": "code",
   "execution_count": null,
   "id": "42a34049-556a-43f4-8575-d3fdaa7c3194",
   "metadata": {},
   "outputs": [],
   "source": [
    "df_prod = pd.concat([df_id_date, df_concat.iloc[:,2::3]], axis=1, join='outer')"
   ]
  },
  {
   "cell_type": "code",
   "execution_count": null,
   "id": "19b12bea-11f0-4f29-8124-864a782283e9",
   "metadata": {},
   "outputs": [],
   "source": [
    "df_prod.shape"
   ]
  },
  {
   "cell_type": "code",
   "execution_count": null,
   "id": "c2e5daa7-9b69-47bc-be20-1f6d1b161705",
   "metadata": {},
   "outputs": [],
   "source": [
    "df_prod.head()"
   ]
  },
  {
   "cell_type": "markdown",
   "id": "53e8b02b-6b55-4c60-b08b-0bc1a8822577",
   "metadata": {},
   "source": [
    "Creating a DataFrame only with product's unit price data"
   ]
  },
  {
   "cell_type": "code",
   "execution_count": null,
   "id": "b74c688e-28a6-4c92-b2ca-dc9fc8a17f9b",
   "metadata": {},
   "outputs": [],
   "source": [
    "df_prod_price = pd.concat([df_id_date, df_concat.iloc[:,3::3]], axis=1, join='outer')"
   ]
  },
  {
   "cell_type": "code",
   "execution_count": null,
   "id": "02a9043e-0b69-4e30-9046-f5f7d76358a6",
   "metadata": {},
   "outputs": [],
   "source": [
    "df_prod_price.head()"
   ]
  },
  {
   "cell_type": "markdown",
   "id": "b3b3ec75-f5c1-4bd6-8107-dd39e424d294",
   "metadata": {},
   "source": [
    "Creating a DataFrame only with the product's revenue data"
   ]
  },
  {
   "cell_type": "code",
   "execution_count": null,
   "id": "80b62869-f4af-4922-9ce2-92088f2441ec",
   "metadata": {},
   "outputs": [],
   "source": [
    "df_prod_revenue = pd.concat([df_id_date, df_concat.iloc[:,4::3]], axis=1, join='outer')"
   ]
  },
  {
   "cell_type": "code",
   "execution_count": null,
   "id": "d324e181-2baf-409c-82ab-c7c18618aec7",
   "metadata": {},
   "outputs": [],
   "source": [
    "df_prod_revenue.head()"
   ]
  },
  {
   "cell_type": "markdown",
   "id": "3c488a6f-58c3-4314-b51a-50719043c732",
   "metadata": {
    "tags": []
   },
   "source": [
    "#### Database with all transactions"
   ]
  },
  {
   "cell_type": "code",
   "execution_count": null,
   "id": "14199640-503f-48fc-b6ac-46d2298ea1b8",
   "metadata": {},
   "outputs": [],
   "source": [
    "def database_all_sells():\n",
    "    global df_all_sells\n",
    "    \n",
    "    #df_id_date = df_concat.iloc[:,:2]    \n",
    "    df_all_sells = pd.concat([df_id_date, df_concat.iloc[:,2::3]], axis=1, join='outer')    \n",
    "    \n",
    "    return df_all_sells.to_csv('df_all_sells.csv')"
   ]
  },
  {
   "cell_type": "code",
   "execution_count": null,
   "id": "a1a49ba9-af99-49c2-a899-60c39fb77bd0",
   "metadata": {},
   "outputs": [],
   "source": [
    "database_all_sells()"
   ]
  },
  {
   "cell_type": "code",
   "execution_count": null,
   "id": "62ef1276-d0fc-4531-9151-ad767ab8be32",
   "metadata": {},
   "outputs": [],
   "source": [
    "df_all_sells.head()"
   ]
  },
  {
   "cell_type": "markdown",
   "id": "5d79aefc-c990-4fe7-a1f1-dc3d94a46392",
   "metadata": {
    "jp-MarkdownHeadingCollapsed": true,
    "tags": []
   },
   "source": [
    "#### Database with total transactions by month"
   ]
  },
  {
   "cell_type": "code",
   "execution_count": null,
   "id": "3bd7e0d3-a12a-48e0-970b-4cd4280df765",
   "metadata": {},
   "outputs": [],
   "source": [
    "def database_monthly_sells():\n",
    "    global df_monthly_sells, df_prod    \n",
    "    \n",
    "    #df_id_date = df_concat.iloc[:,:2]\n",
    "    #df_prod = pd.concat([df_id_date, df_concat.iloc[:,2::3]], axis=1, join='outer')\n",
    "    df_monthly_sells = df_prod.groupby(pd.Grouper(key='date', freq='M')).sum()   \n",
    "    \n",
    "    return df_monthly_sells.to_csv(\"df_monthly_sells.csv\")"
   ]
  },
  {
   "cell_type": "code",
   "execution_count": null,
   "id": "54711f12-bfb6-4dd9-a995-4faa22811546",
   "metadata": {},
   "outputs": [],
   "source": [
    "database_monthly_sells()"
   ]
  },
  {
   "cell_type": "code",
   "execution_count": null,
   "id": "b23a4a5a-8702-4838-b80c-48fa560dcf5a",
   "metadata": {},
   "outputs": [],
   "source": [
    "df_monthly_sells.head()"
   ]
  },
  {
   "cell_type": "markdown",
   "id": "a73a4131-7313-435e-ad19-03e6a43d6662",
   "metadata": {
    "jp-MarkdownHeadingCollapsed": true,
    "tags": []
   },
   "source": [
    "#### Database with weekly price of products, in R$."
   ]
  },
  {
   "cell_type": "code",
   "execution_count": null,
   "id": "27781051-8f1e-4f68-84f5-7a2d1b19270c",
   "metadata": {},
   "outputs": [],
   "source": [
    "def database_weekly_price():\n",
    "    global df_weekly_price \n",
    "    \n",
    "    #df_id_date = df_concat.iloc[:,:2]\n",
    "    #df_prod_price = pd.concat([df_id_date, df_concat.iloc[:,3::3]], axis=1, join='outer')\n",
    "    df_prod_price.insert(0,'Year', df_prod_price['date'].dt.isocalendar().year)\n",
    "    df_prod_price.insert(1,'Week', df_prod_price['date'].dt.isocalendar().week)\n",
    "    df_weekly_price = df_prod_price.groupby(pd.Grouper(key='date', freq='W')).max()\n",
    "    df_weekly_price = df_weekly_price.drop(columns=['id'])\n",
    "    \n",
    "    return df_weekly_price.to_csv(\"df_weekly_price.csv\")"
   ]
  },
  {
   "cell_type": "code",
   "execution_count": null,
   "id": "aa0e545b-06e0-4f4c-b587-a9f2908f9ec3",
   "metadata": {},
   "outputs": [],
   "source": [
    "database_weekly_price()"
   ]
  },
  {
   "cell_type": "code",
   "execution_count": null,
   "id": "be88179b-6ea4-4eba-92c1-46eead8bf1d6",
   "metadata": {},
   "outputs": [],
   "source": [
    "df_weekly_price.head()"
   ]
  },
  {
   "cell_type": "markdown",
   "id": "354ad2bd-06e9-40e7-949e-d365336663fb",
   "metadata": {
    "jp-MarkdownHeadingCollapsed": true,
    "tags": []
   },
   "source": [
    "#### Database with total monthly revenue, in R$."
   ]
  },
  {
   "cell_type": "code",
   "execution_count": null,
   "id": "4d284b42-707e-494a-87b2-aaf5c1f5e8f6",
   "metadata": {},
   "outputs": [],
   "source": [
    "def database_monthly_revenue():\n",
    "    global df_monthly_revenue \n",
    "    \n",
    "    #df_id_date = df_concat.iloc[:,:2]\n",
    "    #df_prod_revenue = pd.concat([df_id_date, df_concat.iloc[:,4::3]], axis=1, join='outer')\n",
    "    df_monthly_revenue = df_prod_revenue.groupby(pd.Grouper(key='date', freq='M')).sum()\n",
    "    df_monthly_revenue.columns = df_prod.columns[2:]\n",
    "    df_monthly_revenue['balance'] = df_monthly_revenue.iloc[:,:].sum(axis = 1)\n",
    "        \n",
    "    return df_monthly_revenue.to_csv(\"df_month_revenue.csv\")"
   ]
  },
  {
   "cell_type": "code",
   "execution_count": null,
   "id": "597745e2-3b65-4d79-affe-f0c0258b9c82",
   "metadata": {},
   "outputs": [],
   "source": [
    "database_monthly_revenue()"
   ]
  },
  {
   "cell_type": "code",
   "execution_count": null,
   "id": "e21acbeb-8694-4b60-aaf6-d57e263af1f2",
   "metadata": {},
   "outputs": [],
   "source": [
    "df_monthly_revenue.head()"
   ]
  },
  {
   "cell_type": "markdown",
   "id": "32917a3f-57cc-4bc8-963c-a1847d0576b6",
   "metadata": {
    "jp-MarkdownHeadingCollapsed": true,
    "tags": []
   },
   "source": [
    "#### Database with consolidadte"
   ]
  },
  {
   "cell_type": "code",
   "execution_count": null,
   "id": "3551b496-fb33-42d7-bdff-cdc060c6325c",
   "metadata": {},
   "outputs": [],
   "source": [
    "def database_consolidate():\n",
    "    global  df_consolidate   \n",
    "    \n",
    "    df_consolidate = df_monthly_revenue.T\n",
    "    df_consolidate.drop(['balance'],inplace=True)\n",
    "    df_consolidate['balance'] = df_consolidate.iloc[:,:].sum(axis = 1)\n",
    "    df_consolidate.index.name = 'product'\n",
    "\n",
    "    return df_consolidate.to_csv(\"df_consolidate.csv\")"
   ]
  },
  {
   "cell_type": "code",
   "execution_count": null,
   "id": "b390480b-a02e-4fa3-b49d-1443e597ed01",
   "metadata": {},
   "outputs": [],
   "source": [
    "database_consolidate()"
   ]
  },
  {
   "cell_type": "code",
   "execution_count": null,
   "id": "e6f22d6e-47d9-4b91-a93f-d6cb344b45f2",
   "metadata": {},
   "outputs": [],
   "source": [
    "df_consolidate.head(20)"
   ]
  },
  {
   "cell_type": "markdown",
   "id": "670dfeab-7975-4ed2-95a9-701fe2c3d03f",
   "metadata": {
    "jp-MarkdownHeadingCollapsed": true,
    "tags": []
   },
   "source": [
    "## Part IV - Exploratory Data Analysis (EDA)"
   ]
  },
  {
   "cell_type": "markdown",
   "id": "579a96b3-4480-4034-8a9a-9d8429b994a6",
   "metadata": {
    "jp-MarkdownHeadingCollapsed": true,
    "tags": []
   },
   "source": [
    "### Variables to use"
   ]
  },
  {
   "cell_type": "code",
   "execution_count": null,
   "id": "380cdd8d-f42f-429b-bd3e-8ad99db545a0",
   "metadata": {},
   "outputs": [],
   "source": [
    "# DataFrame with all transactions\n",
    "df_all_sells.head()"
   ]
  },
  {
   "cell_type": "code",
   "execution_count": null,
   "id": "6aee0dc8-1075-4e29-bb02-5c76f4c6add2",
   "metadata": {},
   "outputs": [],
   "source": [
    "# DataFrame with all transactions by month\n",
    "df_monthly_sells.head()"
   ]
  },
  {
   "cell_type": "code",
   "execution_count": null,
   "id": "ccc3479b-7b1f-4077-8c65-9054cfdbdd58",
   "metadata": {},
   "outputs": [],
   "source": [
    "# DataFrame with all prices by week\n",
    "df_weekly_price.head()"
   ]
  },
  {
   "cell_type": "code",
   "execution_count": null,
   "id": "f3c5b945-5802-40f9-94fd-ac2bb0f527ad",
   "metadata": {},
   "outputs": [],
   "source": [
    "# DataFrame with the revenue by month\n",
    "df_monthly_revenue.head()"
   ]
  },
  {
   "cell_type": "code",
   "execution_count": null,
   "id": "8c1f067b-3e60-4651-8090-b049db27164e",
   "metadata": {},
   "outputs": [],
   "source": [
    "# DataFrame with the product as row and revenue by month as column\n",
    "df_consolidate.head()"
   ]
  }
 ],
 "metadata": {
  "kernelspec": {
   "display_name": "Python 3 (ipykernel)",
   "language": "python",
   "name": "python3"
  },
  "language_info": {
   "codemirror_mode": {
    "name": "ipython",
    "version": 3
   },
   "file_extension": ".py",
   "mimetype": "text/x-python",
   "name": "python",
   "nbconvert_exporter": "python",
   "pygments_lexer": "ipython3",
   "version": "3.9.12"
  },
  "vscode": {
   "interpreter": {
    "hash": "6e3977c52f5249dbc2a33b897faad1e0916758085298811edbd14ed6ad707d81"
   }
  }
 },
 "nbformat": 4,
 "nbformat_minor": 5
}
