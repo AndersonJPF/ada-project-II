{
 "cells": [
  {
   "cell_type": "markdown",
   "id": "cb20aa51-9534-42dd-bc72-a94f5980e538",
   "metadata": {},
   "source": [
    "<center><strong><h1>\n",
    "    ADA FINAL PROJECT II </h1></strong></center>"
   ]
  },
  {
   "cell_type": "markdown",
   "id": "8d4c99a6-81bf-4811-ac1c-fb1368735c68",
   "metadata": {
    "tags": []
   },
   "source": [
    "<center>\n",
    "<img src=\"https://i.postimg.cc/G3vX5dvW/new-product-sales-turn-innovation-into-growth-4x.png\" width=\"600\" alt=\"cognitiveclass.ai logo\"  /></center>"
   ]
  },
  {
   "cell_type": "markdown",
   "id": "755112e1-2bca-4eec-9592-7a375c38a814",
   "metadata": {
    "tags": []
   },
   "source": [
    "# Project Code"
   ]
  },
  {
   "cell_type": "markdown",
   "id": "93be0b67-6cfa-47a8-b9fb-7df9709932c7",
   "metadata": {
    "jp-MarkdownHeadingCollapsed": true,
    "tags": []
   },
   "source": [
    "## Ada_project"
   ]
  },
  {
   "cell_type": "markdown",
   "id": "d6fd2ecc-5067-4b84-a005-308c2e9a4c07",
   "metadata": {
    "tags": []
   },
   "source": [
    "Repository for the essential files for the final project of the Programming Techniques course - Ada tech. The practical objective of this project is to develop a system for storing, maintaining and manipulating databases using pandas.\n",
    "\n",
    "In this work, we want to create a system for organizing product sales data in a company. There are already two services that implement different blocks of a complete project.\n",
    "Repository for the essential files for the final project of the Programming Techniques course - Ada tech. The practical objective of this project is to develop a system for storing, maintaining and manipulating databases using pandas.\n",
    "\n",
    "In this work, we want to create a system for organizing product sales data in a company. There are already two services that implement different blocks of a complete project.\n",
    "\n",
    "### Part 1 - Data Acquisition\n",
    "Initially, a web-server created in Javascript will serve as an entry point for the data, simulating the weekly acquisition of all products sold by the company. To run the server, you need to install [NodeJS](https://nodejs.org/en/). With the repository folder already cloned, you must use the following commands to install the packages.\n",
    "\n",
    "`npm init`\n",
    "`npm install`\n",
    "\n",
    "Then just run the `node web-server.js` command. To request the data in JSON format, just use a GET request to localhost:3000/api/ep1\n",
    "\n",
    "### Part 2 - Data Storage and Management\n",
    "\n",
    "This is the necessary stage of the project. The student must be able to create a system that can update tables in the face of new data. Also, the formatting of dataframes must be in accordance with the project's specifications, so that communication with the dashboard can be stablished immediately and correctly, without any further adaptation. \n",
    "\n",
    "### Part 3 - Data visualization\n",
    "\n",
    "Last step of the project pipeline. Using the aforementioned tables, this script generates a dashboard containing essential info for data visualization. The script uses the `streamlit` framework. In order to run locally, the student should install the package (either using `pip install streamlit` or `conda install streamlit`). To run the application, just type `streamlit run app.py` and access localhost:8501 to view the dashboard. If the second part of the project is done correctly, the dashboard should work like the image below.\n",
    "\n",
    "![example](https://github.com/mdrs-thiago/ada_project/blob/492aafd0f66fdb37fec04a4e72c085ca7aba87f1/ada_project_dashboard.png)"
   ]
  },
  {
   "cell_type": "markdown",
   "id": "8d809c6b-5d99-4a73-b3bf-24e6d8a1b2e0",
   "metadata": {
    "jp-MarkdownHeadingCollapsed": true,
    "tags": []
   },
   "source": [
    "## Imports"
   ]
  },
  {
   "cell_type": "code",
   "execution_count": 118,
   "id": "15185743-2122-4397-ab87-604b918a3839",
   "metadata": {},
   "outputs": [],
   "source": [
    "import pandas as pd\n",
    "import numpy as np\n",
    "import requests\n",
    "import datetime \n",
    "import random\n",
    "\n",
    "import matplotlib.pyplot as plt\n",
    "import seaborn as sns\n",
    "%matplotlib inline \n",
    "\n",
    "#import unicodedata\n",
    "#import math\n",
    "#import time"
   ]
  },
  {
   "cell_type": "code",
   "execution_count": 119,
   "id": "c47fbed0-375d-4135-b25a-5cb40f654616",
   "metadata": {},
   "outputs": [],
   "source": [
    "# show all Columns\n",
    "pd.set_option(\"display.max_columns\", None)"
   ]
  },
  {
   "cell_type": "markdown",
   "id": "56c7dc1a-d6f2-4a68-b72a-6d2b74df9ff8",
   "metadata": {
    "jp-MarkdownHeadingCollapsed": true,
    "tags": []
   },
   "source": [
    "## Main Fuctions"
   ]
  },
  {
   "cell_type": "code",
   "execution_count": 120,
   "id": "d2866d95-fefc-4fb5-b44f-d50cede0a189",
   "metadata": {},
   "outputs": [],
   "source": [
    "dict_price = {}\n",
    "df_concat = pd.DataFrame()"
   ]
  },
  {
   "cell_type": "code",
   "execution_count": 122,
   "id": "2ddf7518-afe2-49aa-b6fc-d2f3e05a410f",
   "metadata": {},
   "outputs": [],
   "source": [
    "def request_api (x:str):\n",
    "    '''\n",
    "    x: str <- link da API\n",
    "    '''\n",
    "    exemple = requests.get(x)\n",
    "    dados = exemple.json()\n",
    "    df = pd.json_normalize(dados)\n",
    "#   df['date'] = df['date'].apply(lambda x: datetime.datetime.fromtimestamp(x))\n",
    "    df.iloc[:,2:] = df.iloc[:,2:].abs()\n",
    "    \n",
    "    return df"
   ]
  },
  {
   "cell_type": "code",
   "execution_count": 155,
   "id": "ddc68c06-ae86-4aaf-a238-2a22f19e35b2",
   "metadata": {},
   "outputs": [],
   "source": [
    "# getting a list of generated products (columns):\n",
    "def prod_in_columns():\n",
    "    global products\n",
    "    products = df_api.columns\n",
    "    products = products[2:]\n",
    "    return products\n",
    "\n",
    "# transforming prod_0 – prod_7 into integer, because quantity of products purchased is in units:\n",
    "def integer_prod():\n",
    "    for i in products:\n",
    "        for j in range(8):\n",
    "            if i == f'prod_{j}':\n",
    "                df_api[i] = df_api[i].apply(np.floor)\n",
    "    return\n",
    "\n",
    "# creating random prices for items for the first time\n",
    "def price_products():\n",
    "    global v\n",
    "    for i in products:\n",
    "        if i not in dict_price.keys():\n",
    "            dict_price[i] = [round(random.uniform(1, 5),2),None,None]\n",
    "            dict_price[i][1] = df_api[i].sum()\n",
    "            dict_price[i][2] = df_api[i].sum()\n",
    "        else:\n",
    "            dict_price[i][1] = dict_price[i][2]\n",
    "            dict_price[i][2] = df_api[i].sum()\n",
    "            v = abs(dict_price[i][2] - dict_price[i][1])\n",
    "            dict_price[i][0] = round(dict_price[i][0] + (np.exp(-v)/(1+np.exp(-v))),2)\n",
    "    return\n",
    "\n",
    "# apply the unit price created into the DataFrame\n",
    "def unit_price():\n",
    "    for i in products:\n",
    "        indice_column = df_api.columns.get_loc(i)\n",
    "        indice_column += 1\n",
    "        df_api.insert(indice_column,f'{i}_unit_price',dict_price[i][0])\n",
    "    return\n",
    "\n",
    "# creating a column with profits (quantity x unit price)\n",
    "def prod_profit():\n",
    "    for i in products:\n",
    "        indice_column = df_api.columns.get_loc(i)\n",
    "        indice_column += 2\n",
    "        df_api.insert(indice_column,f'{i}_profit',(df_api[i]*df_api[f'{i}_unit_price']))\n",
    "        df_api[f'{i}_profit'] = df_api[f'{i}_profit'].apply(lambda x: round(x,2))\n",
    "    return\n",
    "\n",
    "# concatenando os dataframes gerados a partir da API\n",
    "def concat_api():\n",
    "    global df_concat\n",
    "    df_concat = pd.concat([df_concat, df_api], axis=0, join='outer')\n",
    "    df_concat= df_concat.reset_index(drop=True)\n",
    "    return"
   ]
  },
  {
   "cell_type": "markdown",
   "id": "6fd716b6-d509-493a-ad67-a6e801716f7c",
   "metadata": {
    "jp-MarkdownHeadingCollapsed": true,
    "tags": []
   },
   "source": [
    "## TESTES"
   ]
  },
  {
   "cell_type": "code",
   "execution_count": 125,
   "id": "e43239c1-53de-4da0-9b58-b4e1e8bddb25",
   "metadata": {},
   "outputs": [],
   "source": [
    "# IMPORTANT: Use df_api as variable\n",
    "for i in range(500):\n",
    "    df_api = request_api('http://localhost:3000/api/ep1')\n",
    "    prod_in_columns()\n",
    "    integer_prod()\n",
    "    price_products()\n",
    "    unit_price()\n",
    "    prod_profit()\n",
    "    concat_api()\n",
    "    \n",
    "df_concat['date'] = df_concat['date'].apply(lambda x: datetime.datetime.fromtimestamp(x))"
   ]
  },
  {
   "cell_type": "code",
   "execution_count": null,
   "id": "e2afa0c9-cf7c-40b9-b4d0-4d4199fe351e",
   "metadata": {},
   "outputs": [],
   "source": [
    "df_api.shape"
   ]
  },
  {
   "cell_type": "code",
   "execution_count": null,
   "id": "259bcd86-f90e-4dfd-a371-570845fefbf2",
   "metadata": {},
   "outputs": [],
   "source": [
    "df_api.tail()"
   ]
  },
  {
   "cell_type": "code",
   "execution_count": null,
   "id": "0030d260-e600-4bf4-b1b2-538c80b229d9",
   "metadata": {},
   "outputs": [],
   "source": [
    "dict_price"
   ]
  },
  {
   "cell_type": "code",
   "execution_count": null,
   "id": "66cad085-39b5-4fa9-b816-54276d2c6570",
   "metadata": {},
   "outputs": [],
   "source": [
    "#concat_api()"
   ]
  },
  {
   "cell_type": "code",
   "execution_count": null,
   "id": "1d474b7d-4484-41fb-a8c7-b91bea144225",
   "metadata": {},
   "outputs": [],
   "source": [
    "df_concat.shape"
   ]
  },
  {
   "cell_type": "code",
   "execution_count": null,
   "id": "7c7d8a91-f76b-4e33-a38d-e2e4ad31095f",
   "metadata": {},
   "outputs": [],
   "source": [
    "df_concat.tail()"
   ]
  },
  {
   "cell_type": "markdown",
   "id": "5b7fa3c0-74d3-48ce-ae2e-effd5d817df5",
   "metadata": {
    "jp-MarkdownHeadingCollapsed": true,
    "tags": []
   },
   "source": [
    "## Part I - Creating DataFrame and Data Wrangling"
   ]
  },
  {
   "cell_type": "code",
   "execution_count": null,
   "id": "bcaf4f75-9cef-4684-95e0-deb38b930fd5",
   "metadata": {},
   "outputs": [],
   "source": [
    "# creating table and putting a week list:\n",
    "df_api = request_api('http://localhost:3000/api/ep1')\n",
    "df_api.head(5)"
   ]
  },
  {
   "cell_type": "code",
   "execution_count": null,
   "id": "48edc402-b59d-4297-9e9d-947efb5fc2f0",
   "metadata": {},
   "outputs": [],
   "source": [
    "# getting a list of generated products (columns):\n",
    "def prod_in_columns():\n",
    "    global products\n",
    "    products = df_api.columns\n",
    "    products = products[2:]\n",
    "    return products"
   ]
  },
  {
   "cell_type": "code",
   "execution_count": null,
   "id": "485f718b-5955-4952-b5f4-847ea7924a50",
   "metadata": {},
   "outputs": [],
   "source": [
    "prod_in_columns()"
   ]
  },
  {
   "cell_type": "code",
   "execution_count": null,
   "id": "56e1b15a-4528-4cb9-847f-6c6ae34892ef",
   "metadata": {},
   "outputs": [],
   "source": [
    "# transforming prod_0 – prod_7 into integer, because quantity of products purchased is in units:\n",
    "def integer_prod():\n",
    "    for i in products:\n",
    "        for j in range(8):\n",
    "            if i == f'prod_{j}':\n",
    "                df_api[i] = df_api[i].apply(np.floor)\n",
    "    return"
   ]
  },
  {
   "cell_type": "code",
   "execution_count": null,
   "id": "31a2adcb-7b16-47f9-9d52-764fac9935cd",
   "metadata": {},
   "outputs": [],
   "source": [
    "integer_prod()"
   ]
  },
  {
   "cell_type": "code",
   "execution_count": null,
   "id": "f50fc9cb-e619-49a0-97bd-3a0bc2ac5b16",
   "metadata": {},
   "outputs": [],
   "source": [
    "df_api.head()"
   ]
  },
  {
   "cell_type": "code",
   "execution_count": null,
   "id": "17f40853-e5c1-4441-ac0f-c41781fd5f88",
   "metadata": {},
   "outputs": [],
   "source": [
    "# creating random prices for items for the first time\n",
    "def price_products():\n",
    "    global v\n",
    "    for i in products:\n",
    "        if i not in dict_price.keys():\n",
    "            dict_price[i] = [round(random.uniform(1, 5),2),None,None]\n",
    "            dict_price[i][1] = df_api[i].sum()\n",
    "            dict_price[i][2] = df_api[i].sum()\n",
    "        else:\n",
    "            dict_price[i][1] = dict_price[i][2]\n",
    "            dict_price[i][2] = df_api[i].sum()\n",
    "            v = abs(dict_price[i][2] - dict_price[i][1])\n",
    "            dict_price[i][0] = round(dict_price[i][0] + (np.exp(-v)/(1+np.exp(-v))),2)\n",
    "    return"
   ]
  },
  {
   "cell_type": "code",
   "execution_count": null,
   "id": "7b44a79b-4862-4e42-af25-59d7ddf5e913",
   "metadata": {},
   "outputs": [],
   "source": [
    "price_products()"
   ]
  },
  {
   "cell_type": "code",
   "execution_count": null,
   "id": "59ecd4d1-085b-4b64-8d16-88ff1ba942b1",
   "metadata": {},
   "outputs": [],
   "source": [
    "v"
   ]
  },
  {
   "cell_type": "code",
   "execution_count": null,
   "id": "7e8246b6-b586-4c82-83d6-67c59985a731",
   "metadata": {},
   "outputs": [],
   "source": [
    "dict_price"
   ]
  },
  {
   "cell_type": "code",
   "execution_count": null,
   "id": "3daf43a7-2a1b-4d97-a7d4-b52cbceff008",
   "metadata": {},
   "outputs": [],
   "source": [
    "# apply the unit price created into the DataFrame\n",
    "def unit_price():\n",
    "    for i in dict_price.keys():\n",
    "        indice_column = df_api.columns.get_loc(i)\n",
    "        indice_column += 1\n",
    "        df_api.insert(indice_column,f'{i}_unit_price',dict_price[i][0])\n",
    "    return"
   ]
  },
  {
   "cell_type": "code",
   "execution_count": null,
   "id": "31248bbb-6b94-4408-af9e-27a73e5fab8d",
   "metadata": {},
   "outputs": [],
   "source": [
    "unit_price()"
   ]
  },
  {
   "cell_type": "code",
   "execution_count": null,
   "id": "521fa139-6a1d-49d3-b5c1-8375e094d775",
   "metadata": {},
   "outputs": [],
   "source": [
    " df_api.head()"
   ]
  },
  {
   "cell_type": "code",
   "execution_count": null,
   "id": "7cef816c-32f6-498c-b40c-b422662608f7",
   "metadata": {},
   "outputs": [],
   "source": [
    "# creating a column with profits (quantity x unit price)\n",
    "def prod_profit():\n",
    "    for i in dict_price.keys():\n",
    "        indice_column = df_api.columns.get_loc(i)\n",
    "        indice_column += 2\n",
    "        df_api.insert(indice_column,f'{i}_profit',(df_api[i]*df_api[f'{i}_unit_price']))\n",
    "        df_api[f'{i}_profit'] = df_api[f'{i}_profit'].apply(lambda x: round(x,2))\n",
    "    return"
   ]
  },
  {
   "cell_type": "code",
   "execution_count": null,
   "id": "1d2ae127-ff9d-4d85-bfab-bf74b972a52f",
   "metadata": {},
   "outputs": [],
   "source": [
    "prod_profit()"
   ]
  },
  {
   "cell_type": "code",
   "execution_count": null,
   "id": "d9404385-a94b-4e54-84c0-942c5afbb283",
   "metadata": {},
   "outputs": [],
   "source": [
    "df_api.tail()"
   ]
  },
  {
   "cell_type": "markdown",
   "id": "546a2edc-d82a-4d54-806b-88ca8af2caeb",
   "metadata": {
    "jp-MarkdownHeadingCollapsed": true,
    "tags": []
   },
   "source": [
    "## Part II - Concating tables"
   ]
  },
  {
   "cell_type": "code",
   "execution_count": null,
   "id": "e9874daa-8fac-40b0-98f3-1b2b477e57ce",
   "metadata": {},
   "outputs": [],
   "source": [
    "# concatenando os dataframes gerados a partir da API\n",
    "def concat_api():\n",
    "    global df_concat\n",
    "    df_concat = pd.concat([df_concat, df_api], axis=0, join='outer')\n",
    "    df_concat= df_concat.reset_index(drop=True)\n",
    "    return"
   ]
  },
  {
   "cell_type": "code",
   "execution_count": null,
   "id": "1e22f39d-ab16-4d61-a407-13cbbeded028",
   "metadata": {},
   "outputs": [],
   "source": [
    "concat_api()"
   ]
  },
  {
   "cell_type": "code",
   "execution_count": null,
   "id": "5c582e6c-278a-4556-bf32-04c6b0dcc597",
   "metadata": {},
   "outputs": [],
   "source": [
    "df_concat.tail(5)"
   ]
  },
  {
   "cell_type": "code",
   "execution_count": null,
   "id": "e823c5af-0c5b-46ae-aad5-6926518bbdb1",
   "metadata": {},
   "outputs": [],
   "source": [
    "df_concat.to_csv(\"all_sales\")"
   ]
  },
  {
   "cell_type": "markdown",
   "id": "a7bda768-833a-4ad9-8649-6b129b1feb3e",
   "metadata": {
    "jp-MarkdownHeadingCollapsed": true,
    "tags": []
   },
   "source": [
    "## Part III - Groupby"
   ]
  },
  {
   "cell_type": "markdown",
   "id": "9b3c92b9-f72d-42cd-aca6-d82aa4f0f541",
   "metadata": {},
   "source": [
    "Display a pandas DataFrame with a given format using:"
   ]
  },
  {
   "cell_type": "code",
   "execution_count": null,
   "id": "251f391d-98df-4d12-b1a3-c0d92c02a02e",
   "metadata": {},
   "outputs": [],
   "source": [
    "pd.options.display.float_format = '{:.2f}'.format"
   ]
  },
  {
   "cell_type": "markdown",
   "id": "3c488a6f-58c3-4314-b51a-50719043c732",
   "metadata": {
    "jp-MarkdownHeadingCollapsed": true,
    "tags": []
   },
   "source": [
    "### Database with all transactions"
   ]
  },
  {
   "cell_type": "code",
   "execution_count": 149,
   "id": "a57efd8b-d0e2-4462-9925-7c269b0f0288",
   "metadata": {},
   "outputs": [],
   "source": [
    "#df_total = pd.DataFrame(df_concat,columns = list_prodcts)"
   ]
  },
  {
   "cell_type": "code",
   "execution_count": 150,
   "id": "950e2b5e-780b-4161-829e-10b4b8061cdf",
   "metadata": {},
   "outputs": [],
   "source": [
    "#df_consolidate = pd.DataFrame(df_concat,columns = list_prodcts)"
   ]
  },
  {
   "cell_type": "code",
   "execution_count": null,
   "id": "2759da8e-0db3-418b-807e-ad05dba25922",
   "metadata": {},
   "outputs": [],
   "source": [
    "#df_consolidate"
   ]
  },
  {
   "cell_type": "code",
   "execution_count": 207,
   "id": "a1a49ba9-af99-49c2-a899-60c39fb77bd0",
   "metadata": {},
   "outputs": [
    {
     "data": {
      "text/html": [
       "<div>\n",
       "<style scoped>\n",
       "    .dataframe tbody tr th:only-of-type {\n",
       "        vertical-align: middle;\n",
       "    }\n",
       "\n",
       "    .dataframe tbody tr th {\n",
       "        vertical-align: top;\n",
       "    }\n",
       "\n",
       "    .dataframe thead th {\n",
       "        text-align: right;\n",
       "    }\n",
       "</style>\n",
       "<table border=\"1\" class=\"dataframe\">\n",
       "  <thead>\n",
       "    <tr style=\"text-align: right;\">\n",
       "      <th></th>\n",
       "      <th>id</th>\n",
       "      <th>date</th>\n",
       "      <th>prod_4</th>\n",
       "      <th>prod_4_unit_price</th>\n",
       "      <th>prod_4_profit</th>\n",
       "      <th>prod_5</th>\n",
       "      <th>prod_5_unit_price</th>\n",
       "      <th>prod_5_profit</th>\n",
       "      <th>prod_6</th>\n",
       "      <th>prod_6_unit_price</th>\n",
       "      <th>prod_6_profit</th>\n",
       "      <th>prod_7</th>\n",
       "      <th>prod_7_unit_price</th>\n",
       "      <th>prod_7_profit</th>\n",
       "      <th>prod_8</th>\n",
       "      <th>prod_8_unit_price</th>\n",
       "      <th>prod_8_profit</th>\n",
       "      <th>prod_9</th>\n",
       "      <th>prod_9_unit_price</th>\n",
       "      <th>prod_9_profit</th>\n",
       "      <th>prod_11</th>\n",
       "      <th>prod_11_unit_price</th>\n",
       "      <th>prod_11_profit</th>\n",
       "      <th>prod_0</th>\n",
       "      <th>prod_0_unit_price</th>\n",
       "      <th>prod_0_profit</th>\n",
       "      <th>prod_2</th>\n",
       "      <th>prod_2_unit_price</th>\n",
       "      <th>prod_2_profit</th>\n",
       "      <th>prod_10</th>\n",
       "      <th>prod_10_unit_price</th>\n",
       "      <th>prod_10_profit</th>\n",
       "      <th>prod_3</th>\n",
       "      <th>prod_3_unit_price</th>\n",
       "      <th>prod_3_profit</th>\n",
       "      <th>prod_1</th>\n",
       "      <th>prod_1_unit_price</th>\n",
       "      <th>prod_1_profit</th>\n",
       "      <th>prod_15</th>\n",
       "      <th>prod_15_unit_price</th>\n",
       "      <th>prod_15_profit</th>\n",
       "    </tr>\n",
       "  </thead>\n",
       "  <tbody>\n",
       "    <tr>\n",
       "      <th>0</th>\n",
       "      <td>la7ijihfzow5fba99g</td>\n",
       "      <td>2020-01-08 16:34:06.009098</td>\n",
       "      <td>26.00</td>\n",
       "      <td>1.65</td>\n",
       "      <td>42.90</td>\n",
       "      <td>24.00</td>\n",
       "      <td>2.56</td>\n",
       "      <td>61.44</td>\n",
       "      <td>49.00</td>\n",
       "      <td>3.37</td>\n",
       "      <td>165.13</td>\n",
       "      <td>37.00</td>\n",
       "      <td>3.77</td>\n",
       "      <td>139.49</td>\n",
       "      <td>1.36</td>\n",
       "      <td>4.57</td>\n",
       "      <td>6.22</td>\n",
       "      <td>393.14</td>\n",
       "      <td>2.84</td>\n",
       "      <td>1116.51</td>\n",
       "      <td>358.30</td>\n",
       "      <td>4.83</td>\n",
       "      <td>1730.57</td>\n",
       "      <td>NaN</td>\n",
       "      <td>4.33</td>\n",
       "      <td>NaN</td>\n",
       "      <td>NaN</td>\n",
       "      <td>1.26</td>\n",
       "      <td>NaN</td>\n",
       "      <td>NaN</td>\n",
       "      <td>3.21</td>\n",
       "      <td>NaN</td>\n",
       "      <td>NaN</td>\n",
       "      <td>3.84</td>\n",
       "      <td>NaN</td>\n",
       "      <td>NaN</td>\n",
       "      <td>4.27</td>\n",
       "      <td>NaN</td>\n",
       "      <td>NaN</td>\n",
       "      <td>NaN</td>\n",
       "      <td>NaN</td>\n",
       "    </tr>\n",
       "    <tr>\n",
       "      <th>1</th>\n",
       "      <td>la7ijihfrzwj4syhof</td>\n",
       "      <td>2020-01-08 20:22:40.746607</td>\n",
       "      <td>NaN</td>\n",
       "      <td>1.65</td>\n",
       "      <td>NaN</td>\n",
       "      <td>NaN</td>\n",
       "      <td>2.56</td>\n",
       "      <td>NaN</td>\n",
       "      <td>7.00</td>\n",
       "      <td>3.37</td>\n",
       "      <td>23.59</td>\n",
       "      <td>NaN</td>\n",
       "      <td>3.77</td>\n",
       "      <td>NaN</td>\n",
       "      <td>NaN</td>\n",
       "      <td>4.57</td>\n",
       "      <td>NaN</td>\n",
       "      <td>NaN</td>\n",
       "      <td>2.84</td>\n",
       "      <td>NaN</td>\n",
       "      <td>162.85</td>\n",
       "      <td>4.83</td>\n",
       "      <td>786.59</td>\n",
       "      <td>46.00</td>\n",
       "      <td>4.33</td>\n",
       "      <td>199.18</td>\n",
       "      <td>14.00</td>\n",
       "      <td>1.26</td>\n",
       "      <td>17.64</td>\n",
       "      <td>138.87</td>\n",
       "      <td>3.21</td>\n",
       "      <td>445.79</td>\n",
       "      <td>NaN</td>\n",
       "      <td>3.84</td>\n",
       "      <td>NaN</td>\n",
       "      <td>NaN</td>\n",
       "      <td>4.27</td>\n",
       "      <td>NaN</td>\n",
       "      <td>NaN</td>\n",
       "      <td>NaN</td>\n",
       "      <td>NaN</td>\n",
       "    </tr>\n",
       "    <tr>\n",
       "      <th>2</th>\n",
       "      <td>la7ijihfxflwkf1zukb</td>\n",
       "      <td>2020-01-08 16:54:29.353896</td>\n",
       "      <td>7.00</td>\n",
       "      <td>1.65</td>\n",
       "      <td>11.55</td>\n",
       "      <td>19.00</td>\n",
       "      <td>2.56</td>\n",
       "      <td>48.64</td>\n",
       "      <td>25.00</td>\n",
       "      <td>3.37</td>\n",
       "      <td>84.25</td>\n",
       "      <td>NaN</td>\n",
       "      <td>3.77</td>\n",
       "      <td>NaN</td>\n",
       "      <td>5.62</td>\n",
       "      <td>4.57</td>\n",
       "      <td>25.68</td>\n",
       "      <td>326.39</td>\n",
       "      <td>2.84</td>\n",
       "      <td>926.95</td>\n",
       "      <td>140.13</td>\n",
       "      <td>4.83</td>\n",
       "      <td>676.81</td>\n",
       "      <td>NaN</td>\n",
       "      <td>4.33</td>\n",
       "      <td>NaN</td>\n",
       "      <td>NaN</td>\n",
       "      <td>1.26</td>\n",
       "      <td>NaN</td>\n",
       "      <td>300.99</td>\n",
       "      <td>3.21</td>\n",
       "      <td>966.18</td>\n",
       "      <td>23.00</td>\n",
       "      <td>3.84</td>\n",
       "      <td>88.32</td>\n",
       "      <td>NaN</td>\n",
       "      <td>4.27</td>\n",
       "      <td>NaN</td>\n",
       "      <td>NaN</td>\n",
       "      <td>NaN</td>\n",
       "      <td>NaN</td>\n",
       "    </tr>\n",
       "    <tr>\n",
       "      <th>3</th>\n",
       "      <td>la7ijihf9u28dmvtegu</td>\n",
       "      <td>2020-01-09 08:16:02.358788</td>\n",
       "      <td>45.00</td>\n",
       "      <td>1.65</td>\n",
       "      <td>74.25</td>\n",
       "      <td>7.00</td>\n",
       "      <td>2.56</td>\n",
       "      <td>17.92</td>\n",
       "      <td>39.00</td>\n",
       "      <td>3.37</td>\n",
       "      <td>131.43</td>\n",
       "      <td>33.00</td>\n",
       "      <td>3.77</td>\n",
       "      <td>124.41</td>\n",
       "      <td>189.56</td>\n",
       "      <td>4.57</td>\n",
       "      <td>866.28</td>\n",
       "      <td>443.84</td>\n",
       "      <td>2.84</td>\n",
       "      <td>1260.51</td>\n",
       "      <td>206.80</td>\n",
       "      <td>4.83</td>\n",
       "      <td>998.83</td>\n",
       "      <td>27.00</td>\n",
       "      <td>4.33</td>\n",
       "      <td>116.91</td>\n",
       "      <td>NaN</td>\n",
       "      <td>1.26</td>\n",
       "      <td>NaN</td>\n",
       "      <td>84.95</td>\n",
       "      <td>3.21</td>\n",
       "      <td>272.68</td>\n",
       "      <td>NaN</td>\n",
       "      <td>3.84</td>\n",
       "      <td>NaN</td>\n",
       "      <td>35.00</td>\n",
       "      <td>4.27</td>\n",
       "      <td>149.45</td>\n",
       "      <td>NaN</td>\n",
       "      <td>NaN</td>\n",
       "      <td>NaN</td>\n",
       "    </tr>\n",
       "    <tr>\n",
       "      <th>4</th>\n",
       "      <td>la7ijihfgsrdf1qtm55</td>\n",
       "      <td>2020-01-09 01:01:09.853168</td>\n",
       "      <td>13.00</td>\n",
       "      <td>1.65</td>\n",
       "      <td>21.45</td>\n",
       "      <td>NaN</td>\n",
       "      <td>2.56</td>\n",
       "      <td>NaN</td>\n",
       "      <td>25.00</td>\n",
       "      <td>3.37</td>\n",
       "      <td>84.25</td>\n",
       "      <td>NaN</td>\n",
       "      <td>3.77</td>\n",
       "      <td>NaN</td>\n",
       "      <td>NaN</td>\n",
       "      <td>4.57</td>\n",
       "      <td>NaN</td>\n",
       "      <td>NaN</td>\n",
       "      <td>2.84</td>\n",
       "      <td>NaN</td>\n",
       "      <td>199.62</td>\n",
       "      <td>4.83</td>\n",
       "      <td>964.14</td>\n",
       "      <td>NaN</td>\n",
       "      <td>4.33</td>\n",
       "      <td>NaN</td>\n",
       "      <td>24.00</td>\n",
       "      <td>1.26</td>\n",
       "      <td>30.24</td>\n",
       "      <td>NaN</td>\n",
       "      <td>3.21</td>\n",
       "      <td>NaN</td>\n",
       "      <td>14.00</td>\n",
       "      <td>3.84</td>\n",
       "      <td>53.76</td>\n",
       "      <td>NaN</td>\n",
       "      <td>4.27</td>\n",
       "      <td>NaN</td>\n",
       "      <td>NaN</td>\n",
       "      <td>NaN</td>\n",
       "      <td>NaN</td>\n",
       "    </tr>\n",
       "    <tr>\n",
       "      <th>...</th>\n",
       "      <td>...</td>\n",
       "      <td>...</td>\n",
       "      <td>...</td>\n",
       "      <td>...</td>\n",
       "      <td>...</td>\n",
       "      <td>...</td>\n",
       "      <td>...</td>\n",
       "      <td>...</td>\n",
       "      <td>...</td>\n",
       "      <td>...</td>\n",
       "      <td>...</td>\n",
       "      <td>...</td>\n",
       "      <td>...</td>\n",
       "      <td>...</td>\n",
       "      <td>...</td>\n",
       "      <td>...</td>\n",
       "      <td>...</td>\n",
       "      <td>...</td>\n",
       "      <td>...</td>\n",
       "      <td>...</td>\n",
       "      <td>...</td>\n",
       "      <td>...</td>\n",
       "      <td>...</td>\n",
       "      <td>...</td>\n",
       "      <td>...</td>\n",
       "      <td>...</td>\n",
       "      <td>...</td>\n",
       "      <td>...</td>\n",
       "      <td>...</td>\n",
       "      <td>...</td>\n",
       "      <td>...</td>\n",
       "      <td>...</td>\n",
       "      <td>...</td>\n",
       "      <td>...</td>\n",
       "      <td>...</td>\n",
       "      <td>...</td>\n",
       "      <td>...</td>\n",
       "      <td>...</td>\n",
       "      <td>...</td>\n",
       "      <td>...</td>\n",
       "      <td>...</td>\n",
       "    </tr>\n",
       "    <tr>\n",
       "      <th>7835</th>\n",
       "      <td>la7ijxfm986x8c7qom4</td>\n",
       "      <td>2029-08-01 20:55:18.730136</td>\n",
       "      <td>19.00</td>\n",
       "      <td>4.53</td>\n",
       "      <td>86.07</td>\n",
       "      <td>NaN</td>\n",
       "      <td>4.05</td>\n",
       "      <td>NaN</td>\n",
       "      <td>33.00</td>\n",
       "      <td>5.68</td>\n",
       "      <td>187.44</td>\n",
       "      <td>NaN</td>\n",
       "      <td>5.03</td>\n",
       "      <td>NaN</td>\n",
       "      <td>685.53</td>\n",
       "      <td>4.73</td>\n",
       "      <td>3242.56</td>\n",
       "      <td>26.22</td>\n",
       "      <td>2.85</td>\n",
       "      <td>74.73</td>\n",
       "      <td>465.85</td>\n",
       "      <td>5.04</td>\n",
       "      <td>2347.90</td>\n",
       "      <td>NaN</td>\n",
       "      <td>5.77</td>\n",
       "      <td>NaN</td>\n",
       "      <td>14.00</td>\n",
       "      <td>2.31</td>\n",
       "      <td>32.34</td>\n",
       "      <td>233.14</td>\n",
       "      <td>3.21</td>\n",
       "      <td>748.37</td>\n",
       "      <td>NaN</td>\n",
       "      <td>5.48</td>\n",
       "      <td>NaN</td>\n",
       "      <td>16.00</td>\n",
       "      <td>5.64</td>\n",
       "      <td>90.24</td>\n",
       "      <td>2782.16</td>\n",
       "      <td>4.31</td>\n",
       "      <td>11991.12</td>\n",
       "    </tr>\n",
       "    <tr>\n",
       "      <th>7836</th>\n",
       "      <td>la7ijxfm6313gndxavy</td>\n",
       "      <td>2029-08-02 01:21:59.980772</td>\n",
       "      <td>NaN</td>\n",
       "      <td>4.53</td>\n",
       "      <td>NaN</td>\n",
       "      <td>NaN</td>\n",
       "      <td>4.05</td>\n",
       "      <td>NaN</td>\n",
       "      <td>22.00</td>\n",
       "      <td>5.68</td>\n",
       "      <td>124.96</td>\n",
       "      <td>36.00</td>\n",
       "      <td>5.03</td>\n",
       "      <td>181.08</td>\n",
       "      <td>NaN</td>\n",
       "      <td>4.73</td>\n",
       "      <td>NaN</td>\n",
       "      <td>590.09</td>\n",
       "      <td>2.85</td>\n",
       "      <td>1681.76</td>\n",
       "      <td>503.99</td>\n",
       "      <td>5.04</td>\n",
       "      <td>2540.10</td>\n",
       "      <td>14.00</td>\n",
       "      <td>5.77</td>\n",
       "      <td>80.78</td>\n",
       "      <td>NaN</td>\n",
       "      <td>2.31</td>\n",
       "      <td>NaN</td>\n",
       "      <td>NaN</td>\n",
       "      <td>3.21</td>\n",
       "      <td>NaN</td>\n",
       "      <td>NaN</td>\n",
       "      <td>5.48</td>\n",
       "      <td>NaN</td>\n",
       "      <td>47.00</td>\n",
       "      <td>5.64</td>\n",
       "      <td>265.08</td>\n",
       "      <td>3252.67</td>\n",
       "      <td>4.31</td>\n",
       "      <td>14019.00</td>\n",
       "    </tr>\n",
       "    <tr>\n",
       "      <th>7837</th>\n",
       "      <td>la7ijxfmg556jhzylgd</td>\n",
       "      <td>2029-08-02 04:14:52.392740</td>\n",
       "      <td>6.00</td>\n",
       "      <td>4.53</td>\n",
       "      <td>27.18</td>\n",
       "      <td>23.00</td>\n",
       "      <td>4.05</td>\n",
       "      <td>93.15</td>\n",
       "      <td>48.00</td>\n",
       "      <td>5.68</td>\n",
       "      <td>272.64</td>\n",
       "      <td>NaN</td>\n",
       "      <td>5.03</td>\n",
       "      <td>NaN</td>\n",
       "      <td>155.32</td>\n",
       "      <td>4.73</td>\n",
       "      <td>734.66</td>\n",
       "      <td>NaN</td>\n",
       "      <td>2.85</td>\n",
       "      <td>NaN</td>\n",
       "      <td>463.38</td>\n",
       "      <td>5.04</td>\n",
       "      <td>2335.45</td>\n",
       "      <td>NaN</td>\n",
       "      <td>5.77</td>\n",
       "      <td>NaN</td>\n",
       "      <td>NaN</td>\n",
       "      <td>2.31</td>\n",
       "      <td>NaN</td>\n",
       "      <td>566.85</td>\n",
       "      <td>3.21</td>\n",
       "      <td>1819.60</td>\n",
       "      <td>NaN</td>\n",
       "      <td>5.48</td>\n",
       "      <td>NaN</td>\n",
       "      <td>32.00</td>\n",
       "      <td>5.64</td>\n",
       "      <td>180.48</td>\n",
       "      <td>2537.39</td>\n",
       "      <td>4.31</td>\n",
       "      <td>10936.15</td>\n",
       "    </tr>\n",
       "    <tr>\n",
       "      <th>7838</th>\n",
       "      <td>la7ijxfmen72gsbd0yh</td>\n",
       "      <td>2029-08-01 22:20:13.565682</td>\n",
       "      <td>NaN</td>\n",
       "      <td>4.53</td>\n",
       "      <td>NaN</td>\n",
       "      <td>NaN</td>\n",
       "      <td>4.05</td>\n",
       "      <td>NaN</td>\n",
       "      <td>13.00</td>\n",
       "      <td>5.68</td>\n",
       "      <td>73.84</td>\n",
       "      <td>NaN</td>\n",
       "      <td>5.03</td>\n",
       "      <td>NaN</td>\n",
       "      <td>546.62</td>\n",
       "      <td>4.73</td>\n",
       "      <td>2585.53</td>\n",
       "      <td>669.07</td>\n",
       "      <td>2.85</td>\n",
       "      <td>1906.85</td>\n",
       "      <td>564.43</td>\n",
       "      <td>5.04</td>\n",
       "      <td>2844.74</td>\n",
       "      <td>NaN</td>\n",
       "      <td>5.77</td>\n",
       "      <td>NaN</td>\n",
       "      <td>22.00</td>\n",
       "      <td>2.31</td>\n",
       "      <td>50.82</td>\n",
       "      <td>630.15</td>\n",
       "      <td>3.21</td>\n",
       "      <td>2022.80</td>\n",
       "      <td>48.00</td>\n",
       "      <td>5.48</td>\n",
       "      <td>263.04</td>\n",
       "      <td>NaN</td>\n",
       "      <td>5.64</td>\n",
       "      <td>NaN</td>\n",
       "      <td>3035.52</td>\n",
       "      <td>4.31</td>\n",
       "      <td>13083.11</td>\n",
       "    </tr>\n",
       "    <tr>\n",
       "      <th>7839</th>\n",
       "      <td>la7ijxfmapbam7apirp</td>\n",
       "      <td>2029-08-01 18:31:24.761591</td>\n",
       "      <td>NaN</td>\n",
       "      <td>4.53</td>\n",
       "      <td>NaN</td>\n",
       "      <td>7.00</td>\n",
       "      <td>4.05</td>\n",
       "      <td>28.35</td>\n",
       "      <td>NaN</td>\n",
       "      <td>5.68</td>\n",
       "      <td>NaN</td>\n",
       "      <td>NaN</td>\n",
       "      <td>5.03</td>\n",
       "      <td>NaN</td>\n",
       "      <td>NaN</td>\n",
       "      <td>4.73</td>\n",
       "      <td>NaN</td>\n",
       "      <td>687.84</td>\n",
       "      <td>2.85</td>\n",
       "      <td>1960.35</td>\n",
       "      <td>562.60</td>\n",
       "      <td>5.04</td>\n",
       "      <td>2835.52</td>\n",
       "      <td>NaN</td>\n",
       "      <td>5.77</td>\n",
       "      <td>NaN</td>\n",
       "      <td>NaN</td>\n",
       "      <td>2.31</td>\n",
       "      <td>NaN</td>\n",
       "      <td>NaN</td>\n",
       "      <td>3.21</td>\n",
       "      <td>NaN</td>\n",
       "      <td>NaN</td>\n",
       "      <td>5.48</td>\n",
       "      <td>NaN</td>\n",
       "      <td>NaN</td>\n",
       "      <td>5.64</td>\n",
       "      <td>NaN</td>\n",
       "      <td>2690.94</td>\n",
       "      <td>4.31</td>\n",
       "      <td>11597.94</td>\n",
       "    </tr>\n",
       "  </tbody>\n",
       "</table>\n",
       "<p>7840 rows × 41 columns</p>\n",
       "</div>"
      ],
      "text/plain": [
       "                       id                       date  prod_4  \\\n",
       "0      la7ijihfzow5fba99g 2020-01-08 16:34:06.009098   26.00   \n",
       "1      la7ijihfrzwj4syhof 2020-01-08 20:22:40.746607     NaN   \n",
       "2     la7ijihfxflwkf1zukb 2020-01-08 16:54:29.353896    7.00   \n",
       "3     la7ijihf9u28dmvtegu 2020-01-09 08:16:02.358788   45.00   \n",
       "4     la7ijihfgsrdf1qtm55 2020-01-09 01:01:09.853168   13.00   \n",
       "...                   ...                        ...     ...   \n",
       "7835  la7ijxfm986x8c7qom4 2029-08-01 20:55:18.730136   19.00   \n",
       "7836  la7ijxfm6313gndxavy 2029-08-02 01:21:59.980772     NaN   \n",
       "7837  la7ijxfmg556jhzylgd 2029-08-02 04:14:52.392740    6.00   \n",
       "7838  la7ijxfmen72gsbd0yh 2029-08-01 22:20:13.565682     NaN   \n",
       "7839  la7ijxfmapbam7apirp 2029-08-01 18:31:24.761591     NaN   \n",
       "\n",
       "      prod_4_unit_price  prod_4_profit  prod_5  prod_5_unit_price  \\\n",
       "0                  1.65          42.90   24.00               2.56   \n",
       "1                  1.65            NaN     NaN               2.56   \n",
       "2                  1.65          11.55   19.00               2.56   \n",
       "3                  1.65          74.25    7.00               2.56   \n",
       "4                  1.65          21.45     NaN               2.56   \n",
       "...                 ...            ...     ...                ...   \n",
       "7835               4.53          86.07     NaN               4.05   \n",
       "7836               4.53            NaN     NaN               4.05   \n",
       "7837               4.53          27.18   23.00               4.05   \n",
       "7838               4.53            NaN     NaN               4.05   \n",
       "7839               4.53            NaN    7.00               4.05   \n",
       "\n",
       "      prod_5_profit  prod_6  prod_6_unit_price  prod_6_profit  prod_7  \\\n",
       "0             61.44   49.00               3.37         165.13   37.00   \n",
       "1               NaN    7.00               3.37          23.59     NaN   \n",
       "2             48.64   25.00               3.37          84.25     NaN   \n",
       "3             17.92   39.00               3.37         131.43   33.00   \n",
       "4               NaN   25.00               3.37          84.25     NaN   \n",
       "...             ...     ...                ...            ...     ...   \n",
       "7835            NaN   33.00               5.68         187.44     NaN   \n",
       "7836            NaN   22.00               5.68         124.96   36.00   \n",
       "7837          93.15   48.00               5.68         272.64     NaN   \n",
       "7838            NaN   13.00               5.68          73.84     NaN   \n",
       "7839          28.35     NaN               5.68            NaN     NaN   \n",
       "\n",
       "      prod_7_unit_price  prod_7_profit  prod_8  prod_8_unit_price  \\\n",
       "0                  3.77         139.49    1.36               4.57   \n",
       "1                  3.77            NaN     NaN               4.57   \n",
       "2                  3.77            NaN    5.62               4.57   \n",
       "3                  3.77         124.41  189.56               4.57   \n",
       "4                  3.77            NaN     NaN               4.57   \n",
       "...                 ...            ...     ...                ...   \n",
       "7835               5.03            NaN  685.53               4.73   \n",
       "7836               5.03         181.08     NaN               4.73   \n",
       "7837               5.03            NaN  155.32               4.73   \n",
       "7838               5.03            NaN  546.62               4.73   \n",
       "7839               5.03            NaN     NaN               4.73   \n",
       "\n",
       "      prod_8_profit  prod_9  prod_9_unit_price  prod_9_profit  prod_11  \\\n",
       "0              6.22  393.14               2.84        1116.51   358.30   \n",
       "1               NaN     NaN               2.84            NaN   162.85   \n",
       "2             25.68  326.39               2.84         926.95   140.13   \n",
       "3            866.28  443.84               2.84        1260.51   206.80   \n",
       "4               NaN     NaN               2.84            NaN   199.62   \n",
       "...             ...     ...                ...            ...      ...   \n",
       "7835        3242.56   26.22               2.85          74.73   465.85   \n",
       "7836            NaN  590.09               2.85        1681.76   503.99   \n",
       "7837         734.66     NaN               2.85            NaN   463.38   \n",
       "7838        2585.53  669.07               2.85        1906.85   564.43   \n",
       "7839            NaN  687.84               2.85        1960.35   562.60   \n",
       "\n",
       "      prod_11_unit_price  prod_11_profit  prod_0  prod_0_unit_price  \\\n",
       "0                   4.83         1730.57     NaN               4.33   \n",
       "1                   4.83          786.59   46.00               4.33   \n",
       "2                   4.83          676.81     NaN               4.33   \n",
       "3                   4.83          998.83   27.00               4.33   \n",
       "4                   4.83          964.14     NaN               4.33   \n",
       "...                  ...             ...     ...                ...   \n",
       "7835                5.04         2347.90     NaN               5.77   \n",
       "7836                5.04         2540.10   14.00               5.77   \n",
       "7837                5.04         2335.45     NaN               5.77   \n",
       "7838                5.04         2844.74     NaN               5.77   \n",
       "7839                5.04         2835.52     NaN               5.77   \n",
       "\n",
       "      prod_0_profit  prod_2  prod_2_unit_price  prod_2_profit  prod_10  \\\n",
       "0               NaN     NaN               1.26            NaN      NaN   \n",
       "1            199.18   14.00               1.26          17.64   138.87   \n",
       "2               NaN     NaN               1.26            NaN   300.99   \n",
       "3            116.91     NaN               1.26            NaN    84.95   \n",
       "4               NaN   24.00               1.26          30.24      NaN   \n",
       "...             ...     ...                ...            ...      ...   \n",
       "7835            NaN   14.00               2.31          32.34   233.14   \n",
       "7836          80.78     NaN               2.31            NaN      NaN   \n",
       "7837            NaN     NaN               2.31            NaN   566.85   \n",
       "7838            NaN   22.00               2.31          50.82   630.15   \n",
       "7839            NaN     NaN               2.31            NaN      NaN   \n",
       "\n",
       "      prod_10_unit_price  prod_10_profit  prod_3  prod_3_unit_price  \\\n",
       "0                   3.21             NaN     NaN               3.84   \n",
       "1                   3.21          445.79     NaN               3.84   \n",
       "2                   3.21          966.18   23.00               3.84   \n",
       "3                   3.21          272.68     NaN               3.84   \n",
       "4                   3.21             NaN   14.00               3.84   \n",
       "...                  ...             ...     ...                ...   \n",
       "7835                3.21          748.37     NaN               5.48   \n",
       "7836                3.21             NaN     NaN               5.48   \n",
       "7837                3.21         1819.60     NaN               5.48   \n",
       "7838                3.21         2022.80   48.00               5.48   \n",
       "7839                3.21             NaN     NaN               5.48   \n",
       "\n",
       "      prod_3_profit  prod_1  prod_1_unit_price  prod_1_profit  prod_15  \\\n",
       "0               NaN     NaN               4.27            NaN      NaN   \n",
       "1               NaN     NaN               4.27            NaN      NaN   \n",
       "2             88.32     NaN               4.27            NaN      NaN   \n",
       "3               NaN   35.00               4.27         149.45      NaN   \n",
       "4             53.76     NaN               4.27            NaN      NaN   \n",
       "...             ...     ...                ...            ...      ...   \n",
       "7835            NaN   16.00               5.64          90.24  2782.16   \n",
       "7836            NaN   47.00               5.64         265.08  3252.67   \n",
       "7837            NaN   32.00               5.64         180.48  2537.39   \n",
       "7838         263.04     NaN               5.64            NaN  3035.52   \n",
       "7839            NaN     NaN               5.64            NaN  2690.94   \n",
       "\n",
       "      prod_15_unit_price  prod_15_profit  \n",
       "0                    NaN             NaN  \n",
       "1                    NaN             NaN  \n",
       "2                    NaN             NaN  \n",
       "3                    NaN             NaN  \n",
       "4                    NaN             NaN  \n",
       "...                  ...             ...  \n",
       "7835                4.31        11991.12  \n",
       "7836                4.31        14019.00  \n",
       "7837                4.31        10936.15  \n",
       "7838                4.31        13083.11  \n",
       "7839                4.31        11597.94  \n",
       "\n",
       "[7840 rows x 41 columns]"
      ]
     },
     "execution_count": 207,
     "metadata": {},
     "output_type": "execute_result"
    }
   ],
   "source": [
    "df_concat"
   ]
  },
  {
   "cell_type": "markdown",
   "id": "5d79aefc-c990-4fe7-a1f1-dc3d94a46392",
   "metadata": {
    "jp-MarkdownHeadingCollapsed": true,
    "tags": []
   },
   "source": [
    "### Database with total transactions by month"
   ]
  },
  {
   "cell_type": "code",
   "execution_count": 175,
   "id": "cdf71be2-31d9-411e-ae58-830b9ebe214d",
   "metadata": {},
   "outputs": [],
   "source": [
    "# taking only the column list of the products transactions\n",
    "list_prodcts = list(dict_price.keys())\n",
    "list_prodcts.insert(0,'id')\n",
    "list_prodcts.insert(1,'date')"
   ]
  },
  {
   "cell_type": "code",
   "execution_count": null,
   "id": "5e25cc9a-37cd-4724-b396-854f9c5cff99",
   "metadata": {},
   "outputs": [],
   "source": [
    "list_prodcts"
   ]
  },
  {
   "cell_type": "code",
   "execution_count": 177,
   "id": "26bd9f82-3f60-4425-9914-a701c9c10b17",
   "metadata": {},
   "outputs": [],
   "source": [
    "df_month_transactions = pd.DataFrame(df_concat,columns = list_prodcts)"
   ]
  },
  {
   "cell_type": "code",
   "execution_count": null,
   "id": "80db868a-04d7-40ca-8b0e-ee95b7b8f607",
   "metadata": {},
   "outputs": [],
   "source": [
    "#df_month_transactions"
   ]
  },
  {
   "cell_type": "code",
   "execution_count": 178,
   "id": "8ba92d0f-1979-4684-b32b-6f9b44cf8765",
   "metadata": {},
   "outputs": [],
   "source": [
    "df_monthly_sales = df_month_transactions.groupby(pd.Grouper(key='date', freq='M')).sum()"
   ]
  },
  {
   "cell_type": "code",
   "execution_count": null,
   "id": "9c69b591-9351-4076-aa42-1b7a91a7a433",
   "metadata": {},
   "outputs": [],
   "source": [
    "#df_monthly_sales"
   ]
  },
  {
   "cell_type": "code",
   "execution_count": 179,
   "id": "e1c78782-c6d2-482d-a59a-c21ea93ea944",
   "metadata": {},
   "outputs": [],
   "source": [
    "df_monthly_sales['balance'] = df_monthly_sales.iloc[:,:].sum(axis = 1)"
   ]
  },
  {
   "cell_type": "code",
   "execution_count": null,
   "id": "f2dd0311-d346-42d8-8c28-02fa0a0f0663",
   "metadata": {},
   "outputs": [],
   "source": [
    "#df_monthly_sales.shape"
   ]
  },
  {
   "cell_type": "code",
   "execution_count": null,
   "id": "3ef75611-36ff-451b-92f8-d819291740a7",
   "metadata": {},
   "outputs": [],
   "source": [
    "#df_monthly_sales.head()"
   ]
  },
  {
   "cell_type": "markdown",
   "id": "a73a4131-7313-435e-ad19-03e6a43d6662",
   "metadata": {
    "jp-MarkdownHeadingCollapsed": true,
    "tags": []
   },
   "source": [
    "### Database with weekly price of products, in R$."
   ]
  },
  {
   "cell_type": "code",
   "execution_count": 130,
   "id": "7b5176ba-1d83-4722-b714-8868dbe8ae8e",
   "metadata": {},
   "outputs": [],
   "source": [
    "# taking just the price column list\n",
    "list_prodcts_price = list(dict_price.keys())\n",
    "for i in range(len(list_prodcts_price)):\n",
    "    list_prodcts_price[i] = f'{list_prodcts_price[i]}_unit_price'\n",
    "list_prodcts_price.insert(0,'id')\n",
    "list_prodcts_price.insert(1,'date')"
   ]
  },
  {
   "cell_type": "code",
   "execution_count": null,
   "id": "a15ac4b2-250f-4cb4-9c98-223f11e2a0c5",
   "metadata": {},
   "outputs": [],
   "source": [
    "#list_prodcts_price"
   ]
  },
  {
   "cell_type": "code",
   "execution_count": 131,
   "id": "44bef5a3-2250-42ac-844f-1d1dd189736c",
   "metadata": {},
   "outputs": [],
   "source": [
    "df_unit_price = pd.DataFrame(df_concat,columns = list_prodcts_price)"
   ]
  },
  {
   "cell_type": "code",
   "execution_count": null,
   "id": "1683f83c-183c-42ea-a2ec-2edc2727d480",
   "metadata": {},
   "outputs": [],
   "source": [
    "#df_unit_price"
   ]
  },
  {
   "cell_type": "code",
   "execution_count": 132,
   "id": "3fd3234f-6d44-4457-8d92-6732742571de",
   "metadata": {},
   "outputs": [],
   "source": [
    "df_weekly_price = df_unit_price.groupby(pd.Grouper(key='date', freq='W')).mean()"
   ]
  },
  {
   "cell_type": "code",
   "execution_count": null,
   "id": "c169e6f9-f2ac-49fd-bea1-4dc2532cdbcf",
   "metadata": {},
   "outputs": [],
   "source": [
    "#df_weekly_price.head()"
   ]
  },
  {
   "cell_type": "markdown",
   "id": "354ad2bd-06e9-40e7-949e-d365336663fb",
   "metadata": {
    "jp-MarkdownHeadingCollapsed": true,
    "tags": []
   },
   "source": [
    "### Database with total monthly sales, in R$."
   ]
  },
  {
   "cell_type": "code",
   "execution_count": 180,
   "id": "b9241fc4-ff68-413c-ad7a-8bbb73edf7be",
   "metadata": {},
   "outputs": [],
   "source": [
    "# taking only the profit revenue column list\n",
    "list_prodcts_profit= list(dict_price.keys())\n",
    "for i in range(len(list_prodcts_profit)):\n",
    "    list_prodcts_profit[i] = f'{list_prodcts_profit[i]}_profit'\n",
    "list_prodcts_profit.insert(0,'id')\n",
    "list_prodcts_profit.insert(1,'date')"
   ]
  },
  {
   "cell_type": "code",
   "execution_count": 147,
   "id": "b0501d5a-dd63-4ce0-99f1-f55189c5e6a6",
   "metadata": {},
   "outputs": [],
   "source": [
    "#list_prodcts_profit"
   ]
  },
  {
   "cell_type": "code",
   "execution_count": 197,
   "id": "e5ba5977-d1b0-4306-a8cc-96041b540819",
   "metadata": {},
   "outputs": [],
   "source": [
    "teste24 = dict_price.keys()\n",
    "teste24 = list(teste24)"
   ]
  },
  {
   "cell_type": "code",
   "execution_count": 198,
   "id": "34c22d3a-9fe9-478b-b903-6d615db7a1ad",
   "metadata": {},
   "outputs": [],
   "source": [
    "teste24.append('balance')"
   ]
  },
  {
   "cell_type": "code",
   "execution_count": null,
   "id": "61b1a571-63a1-4b95-9057-ab474fa2a3d1",
   "metadata": {},
   "outputs": [],
   "source": [
    "teste24"
   ]
  },
  {
   "cell_type": "code",
   "execution_count": 200,
   "id": "37064bbb-ab14-4073-9203-6ad2cc080a64",
   "metadata": {},
   "outputs": [],
   "source": [
    "df_monthly_profit = pd.DataFrame(df_concat,columns = list_prodcts_profit)"
   ]
  },
  {
   "cell_type": "code",
   "execution_count": null,
   "id": "04b22052-bc03-43b6-8839-dbdb326064e5",
   "metadata": {},
   "outputs": [],
   "source": [
    "#df_monthly_profit.head()"
   ]
  },
  {
   "cell_type": "code",
   "execution_count": 201,
   "id": "9d11a711-e6e2-4af1-a3f8-e057def326d3",
   "metadata": {},
   "outputs": [],
   "source": [
    "df_monthly_revenue = df_monthly_profit.groupby(pd.Grouper(key='date', freq='M')).sum()"
   ]
  },
  {
   "cell_type": "code",
   "execution_count": 202,
   "id": "e438ed54-b528-4678-81b2-d465268c1828",
   "metadata": {},
   "outputs": [],
   "source": [
    "df_monthly_revenue['balance'] = df_monthly_revenue.iloc[:,:].sum(axis = 1)"
   ]
  },
  {
   "cell_type": "code",
   "execution_count": 203,
   "id": "0a429550-882e-4e8b-aa58-dce1db115f90",
   "metadata": {},
   "outputs": [],
   "source": [
    "df_monthly_revenue.columns = teste24"
   ]
  },
  {
   "cell_type": "code",
   "execution_count": 204,
   "id": "61c262c4-9f8d-46bc-a3d2-4bddcb2c9185",
   "metadata": {},
   "outputs": [
    {
     "data": {
      "text/html": [
       "<div>\n",
       "<style scoped>\n",
       "    .dataframe tbody tr th:only-of-type {\n",
       "        vertical-align: middle;\n",
       "    }\n",
       "\n",
       "    .dataframe tbody tr th {\n",
       "        vertical-align: top;\n",
       "    }\n",
       "\n",
       "    .dataframe thead th {\n",
       "        text-align: right;\n",
       "    }\n",
       "</style>\n",
       "<table border=\"1\" class=\"dataframe\">\n",
       "  <thead>\n",
       "    <tr style=\"text-align: right;\">\n",
       "      <th></th>\n",
       "      <th>prod_4</th>\n",
       "      <th>prod_5</th>\n",
       "      <th>prod_6</th>\n",
       "      <th>prod_7</th>\n",
       "      <th>prod_8</th>\n",
       "      <th>prod_9</th>\n",
       "      <th>prod_11</th>\n",
       "      <th>prod_0</th>\n",
       "      <th>prod_2</th>\n",
       "      <th>prod_10</th>\n",
       "      <th>prod_3</th>\n",
       "      <th>prod_1</th>\n",
       "      <th>prod_15</th>\n",
       "      <th>balance</th>\n",
       "    </tr>\n",
       "    <tr>\n",
       "      <th>date</th>\n",
       "      <th></th>\n",
       "      <th></th>\n",
       "      <th></th>\n",
       "      <th></th>\n",
       "      <th></th>\n",
       "      <th></th>\n",
       "      <th></th>\n",
       "      <th></th>\n",
       "      <th></th>\n",
       "      <th></th>\n",
       "      <th></th>\n",
       "      <th></th>\n",
       "      <th></th>\n",
       "      <th></th>\n",
       "    </tr>\n",
       "  </thead>\n",
       "  <tbody>\n",
       "    <tr>\n",
       "      <th>2020-01-31</th>\n",
       "      <td>1544.40</td>\n",
       "      <td>1930.24</td>\n",
       "      <td>2807.21</td>\n",
       "      <td>3549.41</td>\n",
       "      <td>61610.96</td>\n",
       "      <td>36411.89</td>\n",
       "      <td>57318.27</td>\n",
       "      <td>4065.87</td>\n",
       "      <td>1261.26</td>\n",
       "      <td>49451.52</td>\n",
       "      <td>3410.86</td>\n",
       "      <td>4022.34</td>\n",
       "      <td>0.00</td>\n",
       "      <td>227384.23</td>\n",
       "    </tr>\n",
       "    <tr>\n",
       "      <th>2020-02-29</th>\n",
       "      <td>1080.75</td>\n",
       "      <td>2288.64</td>\n",
       "      <td>2868.39</td>\n",
       "      <td>4068.30</td>\n",
       "      <td>61718.33</td>\n",
       "      <td>41347.36</td>\n",
       "      <td>68307.30</td>\n",
       "      <td>3091.62</td>\n",
       "      <td>990.36</td>\n",
       "      <td>37950.85</td>\n",
       "      <td>3744.20</td>\n",
       "      <td>3416.00</td>\n",
       "      <td>109734.61</td>\n",
       "      <td>340606.71</td>\n",
       "    </tr>\n",
       "    <tr>\n",
       "      <th>2020-03-31</th>\n",
       "      <td>1775.40</td>\n",
       "      <td>2124.80</td>\n",
       "      <td>3423.94</td>\n",
       "      <td>3900.22</td>\n",
       "      <td>69843.55</td>\n",
       "      <td>51637.78</td>\n",
       "      <td>88862.92</td>\n",
       "      <td>5040.12</td>\n",
       "      <td>1593.90</td>\n",
       "      <td>57026.23</td>\n",
       "      <td>3060.98</td>\n",
       "      <td>3910.90</td>\n",
       "      <td>164902.92</td>\n",
       "      <td>457103.66</td>\n",
       "    </tr>\n",
       "    <tr>\n",
       "      <th>2020-04-30</th>\n",
       "      <td>1697.85</td>\n",
       "      <td>2240.00</td>\n",
       "      <td>3190.72</td>\n",
       "      <td>4224.30</td>\n",
       "      <td>62797.56</td>\n",
       "      <td>36202.15</td>\n",
       "      <td>66474.11</td>\n",
       "      <td>4788.23</td>\n",
       "      <td>946.53</td>\n",
       "      <td>39400.83</td>\n",
       "      <td>3713.32</td>\n",
       "      <td>3689.40</td>\n",
       "      <td>117297.87</td>\n",
       "      <td>346662.87</td>\n",
       "    </tr>\n",
       "    <tr>\n",
       "      <th>2020-05-31</th>\n",
       "      <td>625.35</td>\n",
       "      <td>1090.56</td>\n",
       "      <td>1389.18</td>\n",
       "      <td>1756.98</td>\n",
       "      <td>28499.03</td>\n",
       "      <td>26894.72</td>\n",
       "      <td>36982.77</td>\n",
       "      <td>814.20</td>\n",
       "      <td>514.31</td>\n",
       "      <td>31391.18</td>\n",
       "      <td>1323.46</td>\n",
       "      <td>1570.14</td>\n",
       "      <td>81317.27</td>\n",
       "      <td>214169.15</td>\n",
       "    </tr>\n",
       "    <tr>\n",
       "      <th>...</th>\n",
       "      <td>...</td>\n",
       "      <td>...</td>\n",
       "      <td>...</td>\n",
       "      <td>...</td>\n",
       "      <td>...</td>\n",
       "      <td>...</td>\n",
       "      <td>...</td>\n",
       "      <td>...</td>\n",
       "      <td>...</td>\n",
       "      <td>...</td>\n",
       "      <td>...</td>\n",
       "      <td>...</td>\n",
       "      <td>...</td>\n",
       "      <td>...</td>\n",
       "    </tr>\n",
       "    <tr>\n",
       "      <th>2029-04-30</th>\n",
       "      <td>2544.76</td>\n",
       "      <td>2106.00</td>\n",
       "      <td>5009.76</td>\n",
       "      <td>5085.33</td>\n",
       "      <td>72173.95</td>\n",
       "      <td>41068.91</td>\n",
       "      <td>82614.38</td>\n",
       "      <td>4304.42</td>\n",
       "      <td>1496.88</td>\n",
       "      <td>48177.66</td>\n",
       "      <td>3210.64</td>\n",
       "      <td>4201.80</td>\n",
       "      <td>1004082.26</td>\n",
       "      <td>1276076.75</td>\n",
       "    </tr>\n",
       "    <tr>\n",
       "      <th>2029-05-31</th>\n",
       "      <td>6698.64</td>\n",
       "      <td>5613.30</td>\n",
       "      <td>7168.16</td>\n",
       "      <td>7736.14</td>\n",
       "      <td>133126.52</td>\n",
       "      <td>73982.62</td>\n",
       "      <td>146930.79</td>\n",
       "      <td>8856.95</td>\n",
       "      <td>3060.75</td>\n",
       "      <td>96902.12</td>\n",
       "      <td>8352.72</td>\n",
       "      <td>6976.68</td>\n",
       "      <td>1780297.31</td>\n",
       "      <td>2285702.70</td>\n",
       "    </tr>\n",
       "    <tr>\n",
       "      <th>2029-06-30</th>\n",
       "      <td>4366.32</td>\n",
       "      <td>4410.45</td>\n",
       "      <td>3822.64</td>\n",
       "      <td>3616.57</td>\n",
       "      <td>78085.57</td>\n",
       "      <td>40394.40</td>\n",
       "      <td>79779.80</td>\n",
       "      <td>5291.09</td>\n",
       "      <td>2259.18</td>\n",
       "      <td>46136.07</td>\n",
       "      <td>5200.52</td>\n",
       "      <td>4731.96</td>\n",
       "      <td>1009939.58</td>\n",
       "      <td>1288034.15</td>\n",
       "    </tr>\n",
       "    <tr>\n",
       "      <th>2029-07-31</th>\n",
       "      <td>3576.96</td>\n",
       "      <td>3150.90</td>\n",
       "      <td>3510.24</td>\n",
       "      <td>4386.16</td>\n",
       "      <td>52466.07</td>\n",
       "      <td>45218.09</td>\n",
       "      <td>58743.04</td>\n",
       "      <td>3819.74</td>\n",
       "      <td>2111.34</td>\n",
       "      <td>42353.45</td>\n",
       "      <td>3529.12</td>\n",
       "      <td>3976.20</td>\n",
       "      <td>790740.44</td>\n",
       "      <td>1017581.75</td>\n",
       "    </tr>\n",
       "    <tr>\n",
       "      <th>2029-08-31</th>\n",
       "      <td>607.02</td>\n",
       "      <td>603.45</td>\n",
       "      <td>1567.68</td>\n",
       "      <td>558.33</td>\n",
       "      <td>13159.96</td>\n",
       "      <td>8995.18</td>\n",
       "      <td>15972.85</td>\n",
       "      <td>663.55</td>\n",
       "      <td>464.31</td>\n",
       "      <td>11170.84</td>\n",
       "      <td>745.28</td>\n",
       "      <td>919.32</td>\n",
       "      <td>187566.62</td>\n",
       "      <td>242994.39</td>\n",
       "    </tr>\n",
       "  </tbody>\n",
       "</table>\n",
       "<p>116 rows × 14 columns</p>\n",
       "</div>"
      ],
      "text/plain": [
       "            prod_4  prod_5  prod_6  prod_7    prod_8   prod_9   prod_11  \\\n",
       "date                                                                      \n",
       "2020-01-31 1544.40 1930.24 2807.21 3549.41  61610.96 36411.89  57318.27   \n",
       "2020-02-29 1080.75 2288.64 2868.39 4068.30  61718.33 41347.36  68307.30   \n",
       "2020-03-31 1775.40 2124.80 3423.94 3900.22  69843.55 51637.78  88862.92   \n",
       "2020-04-30 1697.85 2240.00 3190.72 4224.30  62797.56 36202.15  66474.11   \n",
       "2020-05-31  625.35 1090.56 1389.18 1756.98  28499.03 26894.72  36982.77   \n",
       "...            ...     ...     ...     ...       ...      ...       ...   \n",
       "2029-04-30 2544.76 2106.00 5009.76 5085.33  72173.95 41068.91  82614.38   \n",
       "2029-05-31 6698.64 5613.30 7168.16 7736.14 133126.52 73982.62 146930.79   \n",
       "2029-06-30 4366.32 4410.45 3822.64 3616.57  78085.57 40394.40  79779.80   \n",
       "2029-07-31 3576.96 3150.90 3510.24 4386.16  52466.07 45218.09  58743.04   \n",
       "2029-08-31  607.02  603.45 1567.68  558.33  13159.96  8995.18  15972.85   \n",
       "\n",
       "            prod_0  prod_2  prod_10  prod_3  prod_1    prod_15    balance  \n",
       "date                                                                       \n",
       "2020-01-31 4065.87 1261.26 49451.52 3410.86 4022.34       0.00  227384.23  \n",
       "2020-02-29 3091.62  990.36 37950.85 3744.20 3416.00  109734.61  340606.71  \n",
       "2020-03-31 5040.12 1593.90 57026.23 3060.98 3910.90  164902.92  457103.66  \n",
       "2020-04-30 4788.23  946.53 39400.83 3713.32 3689.40  117297.87  346662.87  \n",
       "2020-05-31  814.20  514.31 31391.18 1323.46 1570.14   81317.27  214169.15  \n",
       "...            ...     ...      ...     ...     ...        ...        ...  \n",
       "2029-04-30 4304.42 1496.88 48177.66 3210.64 4201.80 1004082.26 1276076.75  \n",
       "2029-05-31 8856.95 3060.75 96902.12 8352.72 6976.68 1780297.31 2285702.70  \n",
       "2029-06-30 5291.09 2259.18 46136.07 5200.52 4731.96 1009939.58 1288034.15  \n",
       "2029-07-31 3819.74 2111.34 42353.45 3529.12 3976.20  790740.44 1017581.75  \n",
       "2029-08-31  663.55  464.31 11170.84  745.28  919.32  187566.62  242994.39  \n",
       "\n",
       "[116 rows x 14 columns]"
      ]
     },
     "execution_count": 204,
     "metadata": {},
     "output_type": "execute_result"
    }
   ],
   "source": [
    "df_monthly_revenue"
   ]
  },
  {
   "cell_type": "markdown",
   "id": "5da53dfc-62fc-4da0-91ed-73a0c4bb3f1b",
   "metadata": {
    "jp-MarkdownHeadingCollapsed": true,
    "tags": []
   },
   "source": [
    "## Part IV - Creating Data Bases"
   ]
  },
  {
   "cell_type": "markdown",
   "id": "78996a04-dbc6-4575-9587-93f6a30585c1",
   "metadata": {
    "tags": []
   },
   "source": [
    "### All Sales"
   ]
  },
  {
   "cell_type": "code",
   "execution_count": 137,
   "id": "57922df8-cc54-4770-8938-ee2f2a5433df",
   "metadata": {},
   "outputs": [],
   "source": [
    "df_concat.to_csv(\"df_all_sales.csv\")"
   ]
  },
  {
   "cell_type": "markdown",
   "id": "b575e88b-0b9b-4ca4-9186-80f0137e03ed",
   "metadata": {},
   "source": [
    "### Monthly Sales"
   ]
  },
  {
   "cell_type": "code",
   "execution_count": 140,
   "id": "628bd664-d4fb-4217-9242-46d3e15fd355",
   "metadata": {},
   "outputs": [],
   "source": [
    "df_monthly_sales.to_csv(\"df_consolidate.csv\")"
   ]
  },
  {
   "cell_type": "markdown",
   "id": "28e5b415-7b2f-4877-bc1c-d9588ac6e3bb",
   "metadata": {},
   "source": [
    "### Weekly Price"
   ]
  },
  {
   "cell_type": "code",
   "execution_count": 141,
   "id": "1cd51d4b-e257-4890-8f55-9b9ec3563cb7",
   "metadata": {},
   "outputs": [],
   "source": [
    "df_weekly_price.to_csv(\"df_weekly_price.csv\")"
   ]
  },
  {
   "cell_type": "markdown",
   "id": "fe02ea5b-a7e4-4472-b0a3-543904b7442f",
   "metadata": {},
   "source": [
    "### Monthly Revenue"
   ]
  },
  {
   "cell_type": "code",
   "execution_count": 206,
   "id": "988bf4ec-2638-47cd-b661-ea8390f434cd",
   "metadata": {},
   "outputs": [],
   "source": [
    "df_monthly_revenue.to_csv(\"df_month_revenue.csv\")"
   ]
  },
  {
   "cell_type": "markdown",
   "id": "670dfeab-7975-4ed2-95a9-701fe2c3d03f",
   "metadata": {
    "jp-MarkdownHeadingCollapsed": true,
    "tags": []
   },
   "source": [
    "## Part V - Exploratory Data Analysis (EDA)"
   ]
  },
  {
   "cell_type": "code",
   "execution_count": null,
   "id": "2f89cbf6-7f6a-4bea-bf34-bb8fa62f2a48",
   "metadata": {},
   "outputs": [],
   "source": []
  }
 ],
 "metadata": {
  "kernelspec": {
   "display_name": "Python 3 (ipykernel)",
   "language": "python",
   "name": "python3"
  },
  "language_info": {
   "codemirror_mode": {
    "name": "ipython",
    "version": 3
   },
   "file_extension": ".py",
   "mimetype": "text/x-python",
   "name": "python",
   "nbconvert_exporter": "python",
   "pygments_lexer": "ipython3",
   "version": "3.9.12"
  },
  "vscode": {
   "interpreter": {
    "hash": "6e3977c52f5249dbc2a33b897faad1e0916758085298811edbd14ed6ad707d81"
   }
  }
 },
 "nbformat": 4,
 "nbformat_minor": 5
}
